{
 "cells": [
  {
   "cell_type": "code",
   "execution_count": 59,
   "metadata": {},
   "outputs": [],
   "source": [
    "import pandas as pd\n",
    "import numpy as np\n",
    "import re\n",
    "import json\n",
    "import ast"
   ]
  },
  {
   "cell_type": "code",
   "execution_count": 60,
   "metadata": {},
   "outputs": [
    {
     "name": "stderr",
     "output_type": "stream",
     "text": [
      "C:\\Users\\Pablo\\AppData\\Local\\Temp\\ipykernel_7572\\3976793484.py:1: DtypeWarning: Columns (10) have mixed types. Specify dtype option on import or set low_memory=False.\n",
      "  df = pd.read_csv(\"../movies_dataset.csv\")\n"
     ]
    }
   ],
   "source": [
    "df = pd.read_csv(\"../movies_dataset.csv\")"
   ]
  },
  {
   "cell_type": "code",
   "execution_count": 61,
   "metadata": {},
   "outputs": [],
   "source": [
    "df_diccts = df[['belongs_to_collection','genres','production_companies','production_countries','spoken_languages']] "
   ]
  },
  {
   "cell_type": "code",
   "execution_count": 62,
   "metadata": {},
   "outputs": [
    {
     "data": {
      "text/html": [
       "<div>\n",
       "<style scoped>\n",
       "    .dataframe tbody tr th:only-of-type {\n",
       "        vertical-align: middle;\n",
       "    }\n",
       "\n",
       "    .dataframe tbody tr th {\n",
       "        vertical-align: top;\n",
       "    }\n",
       "\n",
       "    .dataframe thead th {\n",
       "        text-align: right;\n",
       "    }\n",
       "</style>\n",
       "<table border=\"1\" class=\"dataframe\">\n",
       "  <thead>\n",
       "    <tr style=\"text-align: right;\">\n",
       "      <th></th>\n",
       "      <th>belongs_to_collection</th>\n",
       "      <th>genres</th>\n",
       "      <th>production_companies</th>\n",
       "      <th>production_countries</th>\n",
       "      <th>spoken_languages</th>\n",
       "    </tr>\n",
       "  </thead>\n",
       "  <tbody>\n",
       "    <tr>\n",
       "      <th>0</th>\n",
       "      <td>{'id': 10194, 'name': 'Toy Story Collection', ...</td>\n",
       "      <td>[{'id': 16, 'name': 'Animation'}, {'id': 35, '...</td>\n",
       "      <td>[{'name': 'Pixar Animation Studios', 'id': 3}]</td>\n",
       "      <td>[{'iso_3166_1': 'US', 'name': 'United States o...</td>\n",
       "      <td>[{'iso_639_1': 'en', 'name': 'English'}]</td>\n",
       "    </tr>\n",
       "    <tr>\n",
       "      <th>1</th>\n",
       "      <td>NaN</td>\n",
       "      <td>[{'id': 12, 'name': 'Adventure'}, {'id': 14, '...</td>\n",
       "      <td>[{'name': 'TriStar Pictures', 'id': 559}, {'na...</td>\n",
       "      <td>[{'iso_3166_1': 'US', 'name': 'United States o...</td>\n",
       "      <td>[{'iso_639_1': 'en', 'name': 'English'}, {'iso...</td>\n",
       "    </tr>\n",
       "  </tbody>\n",
       "</table>\n",
       "</div>"
      ],
      "text/plain": [
       "                               belongs_to_collection  \\\n",
       "0  {'id': 10194, 'name': 'Toy Story Collection', ...   \n",
       "1                                                NaN   \n",
       "\n",
       "                                              genres  \\\n",
       "0  [{'id': 16, 'name': 'Animation'}, {'id': 35, '...   \n",
       "1  [{'id': 12, 'name': 'Adventure'}, {'id': 14, '...   \n",
       "\n",
       "                                production_companies  \\\n",
       "0     [{'name': 'Pixar Animation Studios', 'id': 3}]   \n",
       "1  [{'name': 'TriStar Pictures', 'id': 559}, {'na...   \n",
       "\n",
       "                                production_countries  \\\n",
       "0  [{'iso_3166_1': 'US', 'name': 'United States o...   \n",
       "1  [{'iso_3166_1': 'US', 'name': 'United States o...   \n",
       "\n",
       "                                    spoken_languages  \n",
       "0           [{'iso_639_1': 'en', 'name': 'English'}]  \n",
       "1  [{'iso_639_1': 'en', 'name': 'English'}, {'iso...  "
      ]
     },
     "execution_count": 62,
     "metadata": {},
     "output_type": "execute_result"
    }
   ],
   "source": [
    "df_diccts.head(2)"
   ]
  },
  {
   "cell_type": "code",
   "execution_count": 78,
   "metadata": {},
   "outputs": [
    {
     "data": {
      "text/plain": [
       "array([\"[{'id': 16, 'name': 'Animation'}, {'id': 35, 'name': 'Comedy'}, {'id': 10751, 'name': 'Family'}]\",\n",
       "       \"[{'id': 12, 'name': 'Adventure'}, {'id': 14, 'name': 'Fantasy'}, {'id': 10751, 'name': 'Family'}]\",\n",
       "       \"[{'id': 10749, 'name': 'Romance'}, {'id': 35, 'name': 'Comedy'}]\",\n",
       "       ...,\n",
       "       \"[{'id': 28, 'name': 'Action'}, {'id': 18, 'name': 'Drama'}, {'id': 53, 'name': 'Thriller'}]\",\n",
       "       '[]', '[]'], dtype=object)"
      ]
     },
     "execution_count": 78,
     "metadata": {},
     "output_type": "execute_result"
    }
   ],
   "source": [
    "df_diccts.genres.values"
   ]
  },
  {
   "cell_type": "markdown",
   "metadata": {},
   "source": [
    "# Columna belong to collection"
   ]
  },
  {
   "cell_type": "code",
   "execution_count": 64,
   "metadata": {},
   "outputs": [],
   "source": [
    "linea_c =df['belongs_to_collection']\n",
    "def convertir_dicc_to_list(ser):\n",
    "    lis = []\n",
    "    for x in ser:\n",
    "        lista = []\n",
    "        try:\n",
    "            if isinstance(x,(str,dict)):\n",
    "                linea = ast.literal_eval(x) if isinstance(x, str) else x\n",
    "                if isinstance(linea,(dict)):\n",
    "                    for clave, valor in linea.items():\n",
    "                        lista.append([clave,valor])\n",
    "                else:\n",
    "                    pass\n",
    "                lis.append(lista)\n",
    "            else:\n",
    "                #lis.append(list())\n",
    "                lis.append(np.nan)\n",
    "                pass\n",
    "        except (ValueError, SyntaxError) as e:\n",
    "            print(f\"Ocurrió una excepción: {e}\")\n",
    "    return lis"
   ]
  },
  {
   "cell_type": "code",
   "execution_count": 65,
   "metadata": {},
   "outputs": [
    {
     "name": "stdout",
     "output_type": "stream",
     "text": [
      "[['id', 119050], ['name', 'Grumpy Old Men Collection'], ['poster_path', '/nLvUdqgPgm3F85NMCii9gVFUcet.jpg'], ['backdrop_path', '/hypTnLot2z8wpFS7qwsQHW1uV8u.jpg']]\n",
      "['name', 'Grumpy Old Men Collection']\n",
      "Grumpy Old Men Collection\n",
      "45466\n"
     ]
    }
   ],
   "source": [
    "linea_c = convertir_dicc_to_list(linea_c)\n",
    "print(linea_c[2])\n",
    "print(linea_c[2][1])\n",
    "print(linea_c[2][1][1])\n",
    "print(len(linea_c))"
   ]
  },
  {
   "cell_type": "markdown",
   "metadata": {},
   "source": [
    "# Columna gneres"
   ]
  },
  {
   "cell_type": "code",
   "execution_count": 66,
   "metadata": {},
   "outputs": [],
   "source": [
    "linea_g = df['genres']\n",
    "def convertir_list_to_dicct(ser):\n",
    "    lista = []\n",
    "    try:\n",
    "        for x in ser:\n",
    "            lis = []\n",
    "            linea = ast.literal_eval(x)\n",
    "            for dic in linea:\n",
    "                lis.append(list(dic.values()))\n",
    "            lista.append(lis)\n",
    "        return lista\n",
    "    except:\n",
    "        return lista\n"
   ]
  },
  {
   "cell_type": "code",
   "execution_count": 67,
   "metadata": {},
   "outputs": [
    {
     "name": "stdout",
     "output_type": "stream",
     "text": [
      "[[16, 'Animation'], [35, 'Comedy'], [10751, 'Family']]\n",
      "[35, 'Comedy']\n",
      "Comedy\n"
     ]
    },
    {
     "data": {
      "text/plain": [
       "45466"
      ]
     },
     "execution_count": 67,
     "metadata": {},
     "output_type": "execute_result"
    }
   ],
   "source": [
    "linea_g = convertir_list_to_dicct(linea_g)\n",
    "print(linea_g[0])\n",
    "print(linea_g[0][1])\n",
    "print(linea_g[0][1][1])\n",
    "len(linea_g)"
   ]
  },
  {
   "cell_type": "markdown",
   "metadata": {},
   "source": [
    "# Columna SpokenLenguage"
   ]
  },
  {
   "cell_type": "code",
   "execution_count": 68,
   "metadata": {},
   "outputs": [],
   "source": [
    "col = df['spoken_languages']\n",
    "def convertir_str_list(ser):\n",
    "    lista = []\n",
    "    try:\n",
    "        for x in ser:\n",
    "            lis = []\n",
    "            linea = ast.literal_eval(x)\n",
    "            for y in linea:\n",
    "                for clave, valor in y.items():\n",
    "                    lis.append([clave,valor])\n",
    "            lista.append(lis)\n",
    "        return lista\n",
    "    except:\n",
    "        return lista"
   ]
  },
  {
   "cell_type": "code",
   "execution_count": 69,
   "metadata": {},
   "outputs": [
    {
     "name": "stdout",
     "output_type": "stream",
     "text": [
      "[['iso_639_1', 'en'], ['name', 'English'], ['iso_639_1', 'fr'], ['name', 'Français']]\n",
      "['iso_639_1', 'fr']\n",
      "fr\n",
      "19729\n"
     ]
    }
   ],
   "source": [
    "col = convertir_str_list(col)\n",
    "print(col[1])\n",
    "print(col[1][2])\n",
    "print(col[1][2][1])\n",
    "print(len(col))"
   ]
  },
  {
   "cell_type": "markdown",
   "metadata": {},
   "source": [
    "# columna production_companies"
   ]
  },
  {
   "cell_type": "code",
   "execution_count": 73,
   "metadata": {},
   "outputs": [],
   "source": [
    "linea_p = df['production_companies']\n",
    "linea_p = convertir_list_to_dicct(linea_p)"
   ]
  },
  {
   "cell_type": "markdown",
   "metadata": {},
   "source": [
    "# Columna production_countries"
   ]
  },
  {
   "cell_type": "code",
   "execution_count": 81,
   "metadata": {},
   "outputs": [],
   "source": [
    "linea_pc = df['production_countries']\n",
    "linea_pc = convertir_list_to_dicct(linea_pc)"
   ]
  },
  {
   "cell_type": "code",
   "execution_count": null,
   "metadata": {},
   "outputs": [],
   "source": [
    "#reemplazar los valores de las columnas por estas nuevas listas\n",
    "#df['spoken_languages'] = pd.Series(col)\n",
    "#df['belongs_to_collection'] = pd.Series(linea_c)\n",
    "#df['genres'] = pd.Series(linea_g)"
   ]
  },
  {
   "cell_type": "code",
   "execution_count": 75,
   "metadata": {},
   "outputs": [
    {
     "data": {
      "text/plain": [
       "\"\\nlinea_c = df['belongs_to_collection']\\nlinea_c = pd.DataFrame(linea_c)\\ntype(linea_c)\\ndef convertir_a_lista(diccionario):\\n  return [diccionario[key] for key in diccionario.keys()]\\n\\n# Aplicar la función a la columna\\nlinea_c = linea_c.apply(convertir_a_lista)\\n\\n#df['columna_lista'] = df['columna_diccionario'].apply(convertir_a_lista)\\n\\n\\n\\nlinea_g =df['genres']\\nlista = []\\nfor x in linea_g:\\n    #print(x)\\n    #print(type(x))\\n    lis = []\\n    linea = ast.literal_eval(x)\\n    #rint(linea)\\n    #print(type(linea))\\n    for dic in linea:\\n        #print(dic)\\n        lis.append(list(dic.values()))\\n    lista.append(lis)\\n    #print(linea)\\n    #print(type(linea))\\n    #print(type(linea[0]))\\n    \\n    #for lin in linea:\\n     #   print(lin)\\n       #for item in lin:\\n    #for list(linea.values())\\n    #lista_listas = [list(diccionario.values()) for diccionario in linea_g]\\n\\nlinea_c =df['belongs_to_collection']\\nlis = []\\nfor x in linea_c:\\n    #if isinstance(x, (str)):\\n    lista = []\\n    try:\\n        linea = ast.literal_eval(x)\\n        if isinstance(linea,(dict)):\\n            for clave, valor in linea.items():\\n                lista.append([clave,valor])\\n        lis.append(lista)\\n    except:\\n        pass\\n\\n\""
      ]
     },
     "execution_count": 75,
     "metadata": {},
     "output_type": "execute_result"
    }
   ],
   "source": [
    "\n",
    "\"\"\"\n",
    "\n",
    "linea_c =df['belongs_to_collection'][0]\n",
    "print(linea_c)\n",
    "print(type(linea_c))\n",
    "linea_c = ast.literal_eval(linea_c)\n",
    "print(linea_c)\n",
    "print(type(linea_c))\n",
    "lista_claves = list(linea_c.keys())\n",
    "lista_valores = list(linea_c.values())\n",
    "lista_items = list(linea_c.items())\n",
    "lista_items_como_listas = [[clave, valor] for clave, valor in linea_c.items()]\n",
    "print(lista_claves)\n",
    "print(lista_valores)\n",
    "print(lista_items)\n",
    "print(lista_items_como_listas)\n",
    "\n",
    "\n",
    "linea_g = df['gnres'][1]\n",
    "print(linea_g)\n",
    "print(type(linea_g))\n",
    "#convertir str a lista de diccionarios\n",
    "linea_g = ast.literal_eval(linea_g)\n",
    "print(linea_g)\n",
    "print(\"primer valor de la lista: \",linea_g[0])\n",
    "print(type(linea_g))\n",
    "print(type(linea_g[0]))\n",
    "lista_listas = [list(diccionario.values()) for diccionario in linea_g]\n",
    "print(lista_listas)\n",
    "print(type(lista_listas))\n",
    "print(type(lista_listas[0]))\n",
    "print(type(lista_listas[0][1]))\n",
    "print(type(lista_listas[0][0]))\n",
    "\n",
    "\"\"\"\n",
    "\n",
    "\"\"\"\n",
    "linea_c = df['belongs_to_collection']\n",
    "linea_c = pd.DataFrame(linea_c)\n",
    "type(linea_c)\n",
    "def convertir_a_lista(diccionario):\n",
    "  return [diccionario[key] for key in diccionario.keys()]\n",
    "\n",
    "# Aplicar la función a la columna\n",
    "linea_c = linea_c.apply(convertir_a_lista)\n",
    "\n",
    "#df['columna_lista'] = df['columna_diccionario'].apply(convertir_a_lista)\n",
    "\n",
    "\n",
    "\n",
    "linea_g =df['genres']\n",
    "lista = []\n",
    "for x in linea_g:\n",
    "    #print(x)\n",
    "    #print(type(x))\n",
    "    lis = []\n",
    "    linea = ast.literal_eval(x)\n",
    "    #rint(linea)\n",
    "    #print(type(linea))\n",
    "    for dic in linea:\n",
    "        #print(dic)\n",
    "        lis.append(list(dic.values()))\n",
    "    lista.append(lis)\n",
    "    #print(linea)\n",
    "    #print(type(linea))\n",
    "    #print(type(linea[0]))\n",
    "    \n",
    "    #for lin in linea:\n",
    "     #   print(lin)\n",
    "       #for item in lin:\n",
    "    #for list(linea.values())\n",
    "    #lista_listas = [list(diccionario.values()) for diccionario in linea_g]\n",
    "\n",
    "linea_c =df['belongs_to_collection']\n",
    "lis = []\n",
    "for x in linea_c:\n",
    "    #if isinstance(x, (str)):\n",
    "    lista = []\n",
    "    try:\n",
    "        linea = ast.literal_eval(x)\n",
    "        if isinstance(linea,(dict)):\n",
    "            for clave, valor in linea.items():\n",
    "                lista.append([clave,valor])\n",
    "        lis.append(lista)\n",
    "    except:\n",
    "        pass\n",
    "\n",
    "\"\"\""
   ]
  }
 ],
 "metadata": {
  "kernelspec": {
   "display_name": "Python 3",
   "language": "python",
   "name": "python3"
  },
  "language_info": {
   "codemirror_mode": {
    "name": "ipython",
    "version": 3
   },
   "file_extension": ".py",
   "mimetype": "text/x-python",
   "name": "python",
   "nbconvert_exporter": "python",
   "pygments_lexer": "ipython3",
   "version": "3.11.4"
  }
 },
 "nbformat": 4,
 "nbformat_minor": 2
}
