{
 "cells": [
  {
   "cell_type": "code",
   "execution_count": 96,
   "metadata": {},
   "outputs": [],
   "source": [
    "import pandas as pd\n",
    "import numpy as np\n",
    "import re\n",
    "import json\n",
    "import ast"
   ]
  },
  {
   "cell_type": "markdown",
   "metadata": {},
   "source": [
    "### 1.0 Lectura de archivos"
   ]
  },
  {
   "cell_type": "code",
   "execution_count": 97,
   "metadata": {},
   "outputs": [
    {
     "name": "stdout",
     "output_type": "stream",
     "text": [
      "dimensiones de la data: (45466, 24)\n"
     ]
    },
    {
     "name": "stderr",
     "output_type": "stream",
     "text": [
      "C:\\Users\\Pablo\\AppData\\Local\\Temp\\ipykernel_12092\\2506349904.py:1: DtypeWarning: Columns (10) have mixed types. Specify dtype option on import or set low_memory=False.\n",
      "  df = pd.read_csv(\"../movies_dataset.csv\")\n"
     ]
    }
   ],
   "source": [
    "df = pd.read_csv(\"../movies_dataset.csv\")\n",
    "print(\"dimensiones de la data:\",df.shape)"
   ]
  },
  {
   "cell_type": "markdown",
   "metadata": {},
   "source": [
    "### 1.1 valores nulos de la data"
   ]
  },
  {
   "cell_type": "code",
   "execution_count": 98,
   "metadata": {},
   "outputs": [
    {
     "data": {
      "text/plain": [
       "adult                        0\n",
       "belongs_to_collection    40972\n",
       "budget                       0\n",
       "genres                       0\n",
       "homepage                 37684\n",
       "id                           0\n",
       "imdb_id                     17\n",
       "original_language           11\n",
       "original_title               0\n",
       "overview                   954\n",
       "popularity                   5\n",
       "poster_path                386\n",
       "production_companies         3\n",
       "production_countries         3\n",
       "release_date                87\n",
       "revenue                      6\n",
       "runtime                    263\n",
       "spoken_languages             6\n",
       "status                      87\n",
       "tagline                  25054\n",
       "title                        6\n",
       "video                        6\n",
       "vote_average                 6\n",
       "vote_count                   6\n",
       "dtype: int64"
      ]
     },
     "execution_count": 98,
     "metadata": {},
     "output_type": "execute_result"
    }
   ],
   "source": [
    "df.isna().sum()"
   ]
  },
  {
   "cell_type": "code",
   "execution_count": 99,
   "metadata": {},
   "outputs": [],
   "source": [
    "#df_peliculas['release_date'] = pd.to_datetime(df_peliculas['release_date'], errors='coerce').dt.strftime('%Y-%m-%d')"
   ]
  },
  {
   "cell_type": "markdown",
   "metadata": {},
   "source": [
    "#### 1.2 Tratamiento sobre columnas que sean colecciones"
   ]
  },
  {
   "cell_type": "code",
   "execution_count": 100,
   "metadata": {},
   "outputs": [],
   "source": [
    "df_diccts = df[['belongs_to_collection','genres','production_companies','production_countries','spoken_languages']] "
   ]
  },
  {
   "cell_type": "code",
   "execution_count": 101,
   "metadata": {},
   "outputs": [
    {
     "data": {
      "text/html": [
       "<div>\n",
       "<style scoped>\n",
       "    .dataframe tbody tr th:only-of-type {\n",
       "        vertical-align: middle;\n",
       "    }\n",
       "\n",
       "    .dataframe tbody tr th {\n",
       "        vertical-align: top;\n",
       "    }\n",
       "\n",
       "    .dataframe thead th {\n",
       "        text-align: right;\n",
       "    }\n",
       "</style>\n",
       "<table border=\"1\" class=\"dataframe\">\n",
       "  <thead>\n",
       "    <tr style=\"text-align: right;\">\n",
       "      <th></th>\n",
       "      <th>belongs_to_collection</th>\n",
       "      <th>genres</th>\n",
       "      <th>production_companies</th>\n",
       "      <th>production_countries</th>\n",
       "      <th>spoken_languages</th>\n",
       "    </tr>\n",
       "  </thead>\n",
       "  <tbody>\n",
       "    <tr>\n",
       "      <th>3075</th>\n",
       "      <td>NaN</td>\n",
       "      <td>[{'id': 18, 'name': 'Drama'}]</td>\n",
       "      <td>[]</td>\n",
       "      <td>[]</td>\n",
       "      <td>[{'iso_639_1': 'hi', 'name': 'हिन्दी'}]</td>\n",
       "    </tr>\n",
       "    <tr>\n",
       "      <th>38628</th>\n",
       "      <td>NaN</td>\n",
       "      <td>[{'id': 28, 'name': 'Action'}, {'id': 12, 'nam...</td>\n",
       "      <td>[{'name': 'Minerva Film SpA', 'id': 153}, {'na...</td>\n",
       "      <td>[{'iso_3166_1': 'MK', 'name': 'Macedonia'}, {'...</td>\n",
       "      <td>[{'iso_639_1': 'sq', 'name': 'shqip'}, {'iso_6...</td>\n",
       "    </tr>\n",
       "    <tr>\n",
       "      <th>28678</th>\n",
       "      <td>NaN</td>\n",
       "      <td>[{'id': 18, 'name': 'Drama'}]</td>\n",
       "      <td>[{'name': 'Warner Brothers/Seven Arts', 'id': ...</td>\n",
       "      <td>[{'iso_3166_1': 'US', 'name': 'United States o...</td>\n",
       "      <td>[{'iso_639_1': 'en', 'name': 'English'}]</td>\n",
       "    </tr>\n",
       "  </tbody>\n",
       "</table>\n",
       "</div>"
      ],
      "text/plain": [
       "      belongs_to_collection  \\\n",
       "3075                    NaN   \n",
       "38628                   NaN   \n",
       "28678                   NaN   \n",
       "\n",
       "                                                  genres  \\\n",
       "3075                       [{'id': 18, 'name': 'Drama'}]   \n",
       "38628  [{'id': 28, 'name': 'Action'}, {'id': 12, 'nam...   \n",
       "28678                      [{'id': 18, 'name': 'Drama'}]   \n",
       "\n",
       "                                    production_companies  \\\n",
       "3075                                                  []   \n",
       "38628  [{'name': 'Minerva Film SpA', 'id': 153}, {'na...   \n",
       "28678  [{'name': 'Warner Brothers/Seven Arts', 'id': ...   \n",
       "\n",
       "                                    production_countries  \\\n",
       "3075                                                  []   \n",
       "38628  [{'iso_3166_1': 'MK', 'name': 'Macedonia'}, {'...   \n",
       "28678  [{'iso_3166_1': 'US', 'name': 'United States o...   \n",
       "\n",
       "                                        spoken_languages  \n",
       "3075             [{'iso_639_1': 'hi', 'name': 'हिन्दी'}]  \n",
       "38628  [{'iso_639_1': 'sq', 'name': 'shqip'}, {'iso_6...  \n",
       "28678           [{'iso_639_1': 'en', 'name': 'English'}]  "
      ]
     },
     "execution_count": 101,
     "metadata": {},
     "output_type": "execute_result"
    }
   ],
   "source": [
    "df_diccts.sample(3)"
   ]
  },
  {
   "cell_type": "code",
   "execution_count": 102,
   "metadata": {},
   "outputs": [],
   "source": [
    "from Funciones import convertir_dicc_to_list #para estructuras como belong_to_collection\n",
    "from Funciones import convertir_list_to_dicct # para estructuras como genres\n",
    "from Funciones import convertir_str_list # para estructuras como spoken_lenguage"
   ]
  },
  {
   "cell_type": "code",
   "execution_count": 103,
   "metadata": {},
   "outputs": [],
   "source": [
    "col1 =df['belongs_to_collection']\n",
    "col2 =df['genres']\n",
    "col3 =df['production_companies']\n",
    "col4 =df['production_countries']\n",
    "col5 =df['spoken_languages']\n",
    "\n",
    "col1 = convertir_dicc_to_list(col1)\n",
    "col2 = convertir_list_to_dicct(col2)\n",
    "col3 = convertir_list_to_dicct(col3)\n",
    "col4 = convertir_list_to_dicct(col4)\n",
    "col5 = convertir_str_list(col5)\n"
   ]
  },
  {
   "cell_type": "code",
   "execution_count": 104,
   "metadata": {},
   "outputs": [],
   "source": [
    "#reemplazar los valores de las columnas por estas nuevas listas\n",
    "df['belongs_to_collection'] = pd.Series(col1)\n",
    "df['genres'] = pd.Series(col2)\n",
    "df['production_companies'] = pd.Series(col3)\n",
    "df['production_countries'] = pd.Series(col4)\n",
    "df['spoken_languages'] = pd.Series(col5)"
   ]
  },
  {
   "cell_type": "code",
   "execution_count": 105,
   "metadata": {},
   "outputs": [
    {
     "data": {
      "text/html": [
       "<div>\n",
       "<style scoped>\n",
       "    .dataframe tbody tr th:only-of-type {\n",
       "        vertical-align: middle;\n",
       "    }\n",
       "\n",
       "    .dataframe tbody tr th {\n",
       "        vertical-align: top;\n",
       "    }\n",
       "\n",
       "    .dataframe thead th {\n",
       "        text-align: right;\n",
       "    }\n",
       "</style>\n",
       "<table border=\"1\" class=\"dataframe\">\n",
       "  <thead>\n",
       "    <tr style=\"text-align: right;\">\n",
       "      <th></th>\n",
       "      <th>belongs_to_collection</th>\n",
       "      <th>genres</th>\n",
       "      <th>production_companies</th>\n",
       "      <th>production_countries</th>\n",
       "      <th>spoken_languages</th>\n",
       "    </tr>\n",
       "  </thead>\n",
       "  <tbody>\n",
       "    <tr>\n",
       "      <th>36935</th>\n",
       "      <td>NaN</td>\n",
       "      <td>[[10749, Romance], [12, Adventure], [18, Drama]]</td>\n",
       "      <td>NaN</td>\n",
       "      <td>NaN</td>\n",
       "      <td>NaN</td>\n",
       "    </tr>\n",
       "    <tr>\n",
       "      <th>24084</th>\n",
       "      <td>NaN</td>\n",
       "      <td>[[53, Thriller], [18, Drama]]</td>\n",
       "      <td>NaN</td>\n",
       "      <td>NaN</td>\n",
       "      <td>NaN</td>\n",
       "    </tr>\n",
       "    <tr>\n",
       "      <th>8037</th>\n",
       "      <td>NaN</td>\n",
       "      <td>[]</td>\n",
       "      <td>[]</td>\n",
       "      <td>[]</td>\n",
       "      <td>[[iso_639_1, en], [name, English]]</td>\n",
       "    </tr>\n",
       "  </tbody>\n",
       "</table>\n",
       "</div>"
      ],
      "text/plain": [
       "      belongs_to_collection                                            genres  \\\n",
       "36935                   NaN  [[10749, Romance], [12, Adventure], [18, Drama]]   \n",
       "24084                   NaN                     [[53, Thriller], [18, Drama]]   \n",
       "8037                    NaN                                                []   \n",
       "\n",
       "      production_companies production_countries  \\\n",
       "36935                  NaN                  NaN   \n",
       "24084                  NaN                  NaN   \n",
       "8037                    []                   []   \n",
       "\n",
       "                         spoken_languages  \n",
       "36935                                 NaN  \n",
       "24084                                 NaN  \n",
       "8037   [[iso_639_1, en], [name, English]]  "
      ]
     },
     "execution_count": 105,
     "metadata": {},
     "output_type": "execute_result"
    }
   ],
   "source": [
    "df[['belongs_to_collection','genres','production_companies','production_countries','spoken_languages']].sample(3)"
   ]
  },
  {
   "cell_type": "markdown",
   "metadata": {},
   "source": [
    "### 1.3 Requisitos de procesamiento de los datos"
   ]
  },
  {
   "cell_type": "markdown",
   "metadata": {},
   "source": [
    "#### requisito: Los valores nulos de los campos revenue, budget deben ser rellenados por el número 0."
   ]
  },
  {
   "cell_type": "code",
   "execution_count": 106,
   "metadata": {},
   "outputs": [],
   "source": [
    "df['revenue'].fillna(0,inplace=True)\n",
    "df['budget'].fillna(0,inplace=True)"
   ]
  },
  {
   "cell_type": "markdown",
   "metadata": {},
   "source": [
    "#### requisito: Los valores nulos del campo release date deben eliminarse."
   ]
  },
  {
   "cell_type": "code",
   "execution_count": 107,
   "metadata": {},
   "outputs": [],
   "source": [
    "df = df.dropna(axis=0,subset='release_date')"
   ]
  },
  {
   "cell_type": "markdown",
   "metadata": {},
   "source": [
    "#### requisito: De haber fechas, deberán tener el formato AAAA-mm-dd, además deberán crear la columna release_year donde extraerán el año de la fecha de estreno."
   ]
  },
  {
   "cell_type": "code",
   "execution_count": 108,
   "metadata": {},
   "outputs": [],
   "source": [
    "df['release_date'] = pd.to_datetime(df['release_date'],errors='coerce')\n",
    "df['release_year'] = df['release_date'].dt.year"
   ]
  },
  {
   "cell_type": "markdown",
   "metadata": {},
   "source": [
    "#### requisito: Crear la columna con el retorno de inversión, llamada return con los campos revenue y budget, dividiendo estas dos últimas revenue / budget, cuando no hay datos disponibles para calcularlo, deberá tomar el valor 0."
   ]
  },
  {
   "cell_type": "code",
   "execution_count": 109,
   "metadata": {},
   "outputs": [],
   "source": [
    "df['budget'] = pd.to_numeric(df['budget'],errors='coerce')\n",
    "df['return'] = np.where((df['budget'].isna() | df['revenue'].isna() | (df['budget'] == 0)),\n",
    "                     0, df['revenue'] / df['budget'])"
   ]
  },
  {
   "cell_type": "markdown",
   "metadata": {},
   "source": [
    "#### requisito: Eliminar las columnas que no serán utilizadas, video,imdb_id,adult,original_title,poster_path y homepage."
   ]
  },
  {
   "cell_type": "code",
   "execution_count": 110,
   "metadata": {},
   "outputs": [],
   "source": [
    "df = df.drop(columns= ['video','imdb_id','adult','original_title','poster_path','homepage'])"
   ]
  },
  {
   "cell_type": "markdown",
   "metadata": {},
   "source": [
    "#### requisito: columna release_year con el año"
   ]
  },
  {
   "cell_type": "code",
   "execution_count": 111,
   "metadata": {},
   "outputs": [],
   "source": [
    "df['release_year'] = df['release_date'].dt.year"
   ]
  },
  {
   "cell_type": "markdown",
   "metadata": {},
   "source": [
    "### segundo dataset: credits"
   ]
  },
  {
   "cell_type": "code",
   "execution_count": 112,
   "metadata": {},
   "outputs": [],
   "source": [
    "df_creditos = pd.read_csv(\"../credits.csv\")"
   ]
  },
  {
   "cell_type": "code",
   "execution_count": 113,
   "metadata": {},
   "outputs": [
    {
     "data": {
      "text/html": [
       "<div>\n",
       "<style scoped>\n",
       "    .dataframe tbody tr th:only-of-type {\n",
       "        vertical-align: middle;\n",
       "    }\n",
       "\n",
       "    .dataframe tbody tr th {\n",
       "        vertical-align: top;\n",
       "    }\n",
       "\n",
       "    .dataframe thead th {\n",
       "        text-align: right;\n",
       "    }\n",
       "</style>\n",
       "<table border=\"1\" class=\"dataframe\">\n",
       "  <thead>\n",
       "    <tr style=\"text-align: right;\">\n",
       "      <th></th>\n",
       "      <th>cast</th>\n",
       "      <th>crew</th>\n",
       "      <th>id</th>\n",
       "    </tr>\n",
       "  </thead>\n",
       "  <tbody>\n",
       "    <tr>\n",
       "      <th>0</th>\n",
       "      <td>[{'cast_id': 14, 'character': 'Woody (voice)',...</td>\n",
       "      <td>[{'credit_id': '52fe4284c3a36847f8024f49', 'de...</td>\n",
       "      <td>862</td>\n",
       "    </tr>\n",
       "    <tr>\n",
       "      <th>1</th>\n",
       "      <td>[{'cast_id': 1, 'character': 'Alan Parrish', '...</td>\n",
       "      <td>[{'credit_id': '52fe44bfc3a36847f80a7cd1', 'de...</td>\n",
       "      <td>8844</td>\n",
       "    </tr>\n",
       "    <tr>\n",
       "      <th>2</th>\n",
       "      <td>[{'cast_id': 2, 'character': 'Max Goldman', 'c...</td>\n",
       "      <td>[{'credit_id': '52fe466a9251416c75077a89', 'de...</td>\n",
       "      <td>15602</td>\n",
       "    </tr>\n",
       "  </tbody>\n",
       "</table>\n",
       "</div>"
      ],
      "text/plain": [
       "                                                cast  \\\n",
       "0  [{'cast_id': 14, 'character': 'Woody (voice)',...   \n",
       "1  [{'cast_id': 1, 'character': 'Alan Parrish', '...   \n",
       "2  [{'cast_id': 2, 'character': 'Max Goldman', 'c...   \n",
       "\n",
       "                                                crew     id  \n",
       "0  [{'credit_id': '52fe4284c3a36847f8024f49', 'de...    862  \n",
       "1  [{'credit_id': '52fe44bfc3a36847f80a7cd1', 'de...   8844  \n",
       "2  [{'credit_id': '52fe466a9251416c75077a89', 'de...  15602  "
      ]
     },
     "execution_count": 113,
     "metadata": {},
     "output_type": "execute_result"
    }
   ],
   "source": [
    "df_creditos.head(3)"
   ]
  },
  {
   "cell_type": "markdown",
   "metadata": {},
   "source": [
    "### creacion de dataframes individuales para cast y crew"
   ]
  },
  {
   "cell_type": "markdown",
   "metadata": {},
   "source": [
    "#### df cast"
   ]
  },
  {
   "cell_type": "code",
   "execution_count": 114,
   "metadata": {},
   "outputs": [
    {
     "name": "stdout",
     "output_type": "stream",
     "text": [
      "(562474, 9)\n"
     ]
    },
    {
     "data": {
      "text/html": [
       "<div>\n",
       "<style scoped>\n",
       "    .dataframe tbody tr th:only-of-type {\n",
       "        vertical-align: middle;\n",
       "    }\n",
       "\n",
       "    .dataframe tbody tr th {\n",
       "        vertical-align: top;\n",
       "    }\n",
       "\n",
       "    .dataframe thead th {\n",
       "        text-align: right;\n",
       "    }\n",
       "</style>\n",
       "<table border=\"1\" class=\"dataframe\">\n",
       "  <thead>\n",
       "    <tr style=\"text-align: right;\">\n",
       "      <th></th>\n",
       "      <th>id_credit</th>\n",
       "      <th>cast_id</th>\n",
       "      <th>character</th>\n",
       "      <th>credit_id</th>\n",
       "      <th>gender</th>\n",
       "      <th>id</th>\n",
       "      <th>name</th>\n",
       "      <th>order</th>\n",
       "      <th>profile_path</th>\n",
       "    </tr>\n",
       "  </thead>\n",
       "  <tbody>\n",
       "    <tr>\n",
       "      <th>0</th>\n",
       "      <td>862</td>\n",
       "      <td>14</td>\n",
       "      <td>Woody (voice)</td>\n",
       "      <td>52fe4284c3a36847f8024f95</td>\n",
       "      <td>2</td>\n",
       "      <td>31</td>\n",
       "      <td>Tom Hanks</td>\n",
       "      <td>0</td>\n",
       "      <td>/pQFoyx7rp09CJTAb932F2g8Nlho.jpg</td>\n",
       "    </tr>\n",
       "    <tr>\n",
       "      <th>1</th>\n",
       "      <td>862</td>\n",
       "      <td>15</td>\n",
       "      <td>Buzz Lightyear (voice)</td>\n",
       "      <td>52fe4284c3a36847f8024f99</td>\n",
       "      <td>2</td>\n",
       "      <td>12898</td>\n",
       "      <td>Tim Allen</td>\n",
       "      <td>1</td>\n",
       "      <td>/uX2xVf6pMmPepxnvFWyBtjexzgY.jpg</td>\n",
       "    </tr>\n",
       "    <tr>\n",
       "      <th>2</th>\n",
       "      <td>862</td>\n",
       "      <td>16</td>\n",
       "      <td>Mr. Potato Head (voice)</td>\n",
       "      <td>52fe4284c3a36847f8024f9d</td>\n",
       "      <td>2</td>\n",
       "      <td>7167</td>\n",
       "      <td>Don Rickles</td>\n",
       "      <td>2</td>\n",
       "      <td>/h5BcaDMPRVLHLDzbQavec4xfSdt.jpg</td>\n",
       "    </tr>\n",
       "    <tr>\n",
       "      <th>3</th>\n",
       "      <td>862</td>\n",
       "      <td>17</td>\n",
       "      <td>Slinky Dog (voice)</td>\n",
       "      <td>52fe4284c3a36847f8024fa1</td>\n",
       "      <td>2</td>\n",
       "      <td>12899</td>\n",
       "      <td>Jim Varney</td>\n",
       "      <td>3</td>\n",
       "      <td>/eIo2jVVXYgjDtaHoF19Ll9vtW7h.jpg</td>\n",
       "    </tr>\n",
       "    <tr>\n",
       "      <th>4</th>\n",
       "      <td>862</td>\n",
       "      <td>18</td>\n",
       "      <td>Rex (voice)</td>\n",
       "      <td>52fe4284c3a36847f8024fa5</td>\n",
       "      <td>2</td>\n",
       "      <td>12900</td>\n",
       "      <td>Wallace Shawn</td>\n",
       "      <td>4</td>\n",
       "      <td>/oGE6JqPP2xH4tNORKNqxbNPYi7u.jpg</td>\n",
       "    </tr>\n",
       "  </tbody>\n",
       "</table>\n",
       "</div>"
      ],
      "text/plain": [
       "   id_credit  cast_id                character                 credit_id  \\\n",
       "0        862       14            Woody (voice)  52fe4284c3a36847f8024f95   \n",
       "1        862       15   Buzz Lightyear (voice)  52fe4284c3a36847f8024f99   \n",
       "2        862       16  Mr. Potato Head (voice)  52fe4284c3a36847f8024f9d   \n",
       "3        862       17       Slinky Dog (voice)  52fe4284c3a36847f8024fa1   \n",
       "4        862       18              Rex (voice)  52fe4284c3a36847f8024fa5   \n",
       "\n",
       "   gender     id           name  order                      profile_path  \n",
       "0       2     31      Tom Hanks      0  /pQFoyx7rp09CJTAb932F2g8Nlho.jpg  \n",
       "1       2  12898      Tim Allen      1  /uX2xVf6pMmPepxnvFWyBtjexzgY.jpg  \n",
       "2       2   7167    Don Rickles      2  /h5BcaDMPRVLHLDzbQavec4xfSdt.jpg  \n",
       "3       2  12899     Jim Varney      3  /eIo2jVVXYgjDtaHoF19Ll9vtW7h.jpg  \n",
       "4       2  12900  Wallace Shawn      4  /oGE6JqPP2xH4tNORKNqxbNPYi7u.jpg  "
      ]
     },
     "execution_count": 114,
     "metadata": {},
     "output_type": "execute_result"
    }
   ],
   "source": [
    "linea_cast = df_creditos['cast']\n",
    "linea_id = df_creditos['id']\n",
    "datos_cast = {}\n",
    "datos_cast[\"id_credit\"] = []\n",
    "datos_cast[\"cast_id\"] = []\n",
    "datos_cast[\"character\"] = []\n",
    "datos_cast[\"credit_id\"] = []\n",
    "datos_cast[\"gender\"] = []\n",
    "datos_cast[\"id\"] = []\n",
    "datos_cast[\"name\"] = []\n",
    "datos_cast[\"order\"] = []\n",
    "datos_cast[\"profile_path\"] = []\n",
    "try:\n",
    "    for idx, lis in enumerate(linea_cast):\n",
    "        linea = ast.literal_eval(lis)\n",
    "        id_actual = linea_id.iloc[idx]\n",
    "        for dic in linea:\n",
    "            datos_cast['id_credit'].append(id_actual)\n",
    "            for clave,valor in dic.items():\n",
    "                datos_cast[clave].append(valor)\n",
    "except:\n",
    "    pass\n",
    "\n",
    "datos_cast = pd.DataFrame(datos_cast)\n",
    "\n",
    "print(datos_cast.shape)\n",
    "datos_cast.head()"
   ]
  },
  {
   "cell_type": "markdown",
   "metadata": {},
   "source": [
    "#### df crew"
   ]
  },
  {
   "cell_type": "code",
   "execution_count": 115,
   "metadata": {},
   "outputs": [
    {
     "data": {
      "text/html": [
       "<div>\n",
       "<style scoped>\n",
       "    .dataframe tbody tr th:only-of-type {\n",
       "        vertical-align: middle;\n",
       "    }\n",
       "\n",
       "    .dataframe tbody tr th {\n",
       "        vertical-align: top;\n",
       "    }\n",
       "\n",
       "    .dataframe thead th {\n",
       "        text-align: right;\n",
       "    }\n",
       "</style>\n",
       "<table border=\"1\" class=\"dataframe\">\n",
       "  <thead>\n",
       "    <tr style=\"text-align: right;\">\n",
       "      <th></th>\n",
       "      <th>id_credit</th>\n",
       "      <th>credit_id</th>\n",
       "      <th>department</th>\n",
       "      <th>gender</th>\n",
       "      <th>id</th>\n",
       "      <th>job</th>\n",
       "      <th>name</th>\n",
       "      <th>profile_path</th>\n",
       "    </tr>\n",
       "  </thead>\n",
       "  <tbody>\n",
       "    <tr>\n",
       "      <th>0</th>\n",
       "      <td>862</td>\n",
       "      <td>52fe4284c3a36847f8024f49</td>\n",
       "      <td>Directing</td>\n",
       "      <td>2</td>\n",
       "      <td>7879</td>\n",
       "      <td>Director</td>\n",
       "      <td>John Lasseter</td>\n",
       "      <td>/7EdqiNbr4FRjIhKHyPPdFfEEEFG.jpg</td>\n",
       "    </tr>\n",
       "    <tr>\n",
       "      <th>1</th>\n",
       "      <td>862</td>\n",
       "      <td>52fe4284c3a36847f8024f4f</td>\n",
       "      <td>Writing</td>\n",
       "      <td>2</td>\n",
       "      <td>12891</td>\n",
       "      <td>Screenplay</td>\n",
       "      <td>Joss Whedon</td>\n",
       "      <td>/dTiVsuaTVTeGmvkhcyJvKp2A5kr.jpg</td>\n",
       "    </tr>\n",
       "    <tr>\n",
       "      <th>2</th>\n",
       "      <td>862</td>\n",
       "      <td>52fe4284c3a36847f8024f55</td>\n",
       "      <td>Writing</td>\n",
       "      <td>2</td>\n",
       "      <td>7</td>\n",
       "      <td>Screenplay</td>\n",
       "      <td>Andrew Stanton</td>\n",
       "      <td>/pvQWsu0qc8JFQhMVJkTHuexUAa1.jpg</td>\n",
       "    </tr>\n",
       "    <tr>\n",
       "      <th>3</th>\n",
       "      <td>862</td>\n",
       "      <td>52fe4284c3a36847f8024f5b</td>\n",
       "      <td>Writing</td>\n",
       "      <td>2</td>\n",
       "      <td>12892</td>\n",
       "      <td>Screenplay</td>\n",
       "      <td>Joel Cohen</td>\n",
       "      <td>/dAubAiZcvKFbboWlj7oXOkZnTSu.jpg</td>\n",
       "    </tr>\n",
       "    <tr>\n",
       "      <th>4</th>\n",
       "      <td>862</td>\n",
       "      <td>52fe4284c3a36847f8024f61</td>\n",
       "      <td>Writing</td>\n",
       "      <td>0</td>\n",
       "      <td>12893</td>\n",
       "      <td>Screenplay</td>\n",
       "      <td>Alec Sokolow</td>\n",
       "      <td>/v79vlRYi94BZUQnkkyznbGUZLjT.jpg</td>\n",
       "    </tr>\n",
       "  </tbody>\n",
       "</table>\n",
       "</div>"
      ],
      "text/plain": [
       "   id_credit                 credit_id department  gender     id         job  \\\n",
       "0        862  52fe4284c3a36847f8024f49  Directing       2   7879    Director   \n",
       "1        862  52fe4284c3a36847f8024f4f    Writing       2  12891  Screenplay   \n",
       "2        862  52fe4284c3a36847f8024f55    Writing       2      7  Screenplay   \n",
       "3        862  52fe4284c3a36847f8024f5b    Writing       2  12892  Screenplay   \n",
       "4        862  52fe4284c3a36847f8024f61    Writing       0  12893  Screenplay   \n",
       "\n",
       "             name                      profile_path  \n",
       "0   John Lasseter  /7EdqiNbr4FRjIhKHyPPdFfEEEFG.jpg  \n",
       "1     Joss Whedon  /dTiVsuaTVTeGmvkhcyJvKp2A5kr.jpg  \n",
       "2  Andrew Stanton  /pvQWsu0qc8JFQhMVJkTHuexUAa1.jpg  \n",
       "3      Joel Cohen  /dAubAiZcvKFbboWlj7oXOkZnTSu.jpg  \n",
       "4    Alec Sokolow  /v79vlRYi94BZUQnkkyznbGUZLjT.jpg  "
      ]
     },
     "execution_count": 115,
     "metadata": {},
     "output_type": "execute_result"
    }
   ],
   "source": [
    "linea_crew = df_creditos['crew']\n",
    "linea_id = df_creditos['id']\n",
    "\n",
    "datos_crew = {}\n",
    "datos_crew[\"id_credit\"] = []\n",
    "datos_crew[\"credit_id\"] = []\n",
    "datos_crew[\"department\"] = []\n",
    "datos_crew[\"gender\"] = []\n",
    "datos_crew[\"id\"] = []\n",
    "datos_crew[\"job\"] = []\n",
    "datos_crew[\"name\"] = []\n",
    "datos_crew[\"profile_path\"] = []\n",
    "try:\n",
    "    for idx, lis in enumerate(linea_crew):\n",
    "        linea = ast.literal_eval(lis)\n",
    "        id_actual = linea_id.iloc[idx]\n",
    "        for dic in linea:\n",
    "            datos_crew[\"id_credit\"].append(id_actual)  # Agrega el id original repetido\n",
    "            for clave, valor in dic.items():\n",
    "                datos_crew[clave].append(valor)\n",
    "except Exception as e:\n",
    "    print(f\"Ocurrió un error: {e}\")\n",
    "\n",
    "# Convertir a DataFrame para verificar los resultados\n",
    "datos_crew = pd.DataFrame(datos_crew)\n",
    "datos_crew.head()"
   ]
  },
  {
   "cell_type": "markdown",
   "metadata": {},
   "source": [
    "#### eliminacion de columnas sin interes"
   ]
  },
  {
   "cell_type": "code",
   "execution_count": 116,
   "metadata": {},
   "outputs": [
    {
     "name": "stdout",
     "output_type": "stream",
     "text": [
      "(45379, 19)\n",
      "(464314, 7)\n",
      "(562474, 8)\n"
     ]
    }
   ],
   "source": [
    "df= df.drop(columns= ['tagline'])\n",
    "datos_cast = datos_cast.drop(columns=['profile_path'])\n",
    "datos_crew = datos_crew.drop(columns=['profile_path'])\n",
    "#eliminacion de nans\n",
    "#df.dropna(axis=0,inplace=True)\n",
    "#datos_crew.dropna(axis=0,inplace=True)\n",
    "#datos_cast.dropna(axis=0,inplace=True)\n",
    "print(df.shape)\n",
    "print(datos_crew.shape)\n",
    "print(datos_cast.shape)"
   ]
  },
  {
   "cell_type": "markdown",
   "metadata": {},
   "source": [
    "#### Checkeos de tipos de datos"
   ]
  },
  {
   "cell_type": "code",
   "execution_count": 117,
   "metadata": {},
   "outputs": [],
   "source": [
    "df['id'] = pd.to_numeric(df['id'],errors='coerce')\n",
    "df['popularity'] = pd.to_numeric(df['popularity'],errors='coerce')"
   ]
  },
  {
   "cell_type": "markdown",
   "metadata": {},
   "source": [
    "#### Crear datasets ya limpios"
   ]
  },
  {
   "cell_type": "code",
   "execution_count": 118,
   "metadata": {},
   "outputs": [],
   "source": [
    "#datos_cast.to_csv('df_cast.csv',index=False)\n",
    "#datos_crew.to_csv('df_crew.csv',index=False)\n",
    "#df.to_csv('movies.csv',index=False)"
   ]
  },
  {
   "cell_type": "markdown",
   "metadata": {},
   "source": [
    "## Finalizacion de ETL"
   ]
  },
  {
   "cell_type": "code",
   "execution_count": 122,
   "metadata": {},
   "outputs": [
    {
     "data": {
      "text/plain": [
       "'\\nlista_id = []\\nlista_titulos = []\\nfor coleccion in df[\\'belongs_to_collection\\']:\\n    try:\\n        #obtener los valores de los ids de las peliculas\\n        #print(x[0][1])\\n        #print(coleccion[0][1])\\n        #print(coleccion[1][1])\\n        if int(coleccion[0][1]) not in lista_id:\\n            lista_id.append(coleccion[0][1])\\n        if str(coleccion[1][1]) not in lista_titulos:\\n            lista_titulos.append(coleccion[1][1])\\n    except:\\n        pass\\n\\nlis_peliculas = pd.DataFrame(data={\"id\":lista_id,\\n                                   \"titulo\":lista_titulos})\\n\\nlis_peliculas[\\'titulo\\']\\n'"
      ]
     },
     "execution_count": 122,
     "metadata": {},
     "output_type": "execute_result"
    }
   ],
   "source": [
    "\"\"\"\n",
    "lista_id = []\n",
    "lista_titulos = []\n",
    "for coleccion in df['belongs_to_collection']:\n",
    "    try:\n",
    "        #obtener los valores de los ids de las peliculas\n",
    "        #print(x[0][1])\n",
    "        #print(coleccion[0][1])\n",
    "        #print(coleccion[1][1])\n",
    "        if int(coleccion[0][1]) not in lista_id:\n",
    "            lista_id.append(coleccion[0][1])\n",
    "        if str(coleccion[1][1]) not in lista_titulos:\n",
    "            lista_titulos.append(coleccion[1][1])\n",
    "    except:\n",
    "        pass\n",
    "\n",
    "lis_peliculas = pd.DataFrame(data={\"id\":lista_id,\n",
    "                                   \"titulo\":lista_titulos})\n",
    "\n",
    "lis_peliculas['titulo']\n",
    "\"\"\""
   ]
  },
  {
   "cell_type": "code",
   "execution_count": 123,
   "metadata": {},
   "outputs": [
    {
     "data": {
      "text/plain": [
       "'\\n#### Expansion de columnas\\ndef expandcolumns(df, columns):\\n    for column in columns:\\n        df[column] = df[column].apply(lambda x: ast.literal_eval(x) if pd.notnull(x) else []) #Convierte el contenido de cada celda en la columna column de df de una cadena de texto que representa una lista de diccionarios a una lista de diccionarios Python, utilizando ast.literal_eval. Si el valor es nulo (pd.notnull(x)), se devuelve una lista vacía.\\n        # Expande la columna column en filas, de modo que cada elemento de la lista de diccionarios se convierte en una fila separada en df\\n        df = df.explode(column)\\n        # Normaliza la columna column después de expandirla, lo que significa que convierte cada diccionario dentro de la lista en una serie de columnas.\\n        col_df = pd.json_normalize(df[column])\\n        # Renombra las columnas normalizadas agregando el nombre original de la columna como prefijo, para evitar conflictos si hay nombres de columnas duplicados en diferentes listas de diccionarios.\\n        col_df = col_df.add_prefix(f\\'{column}\\')\\n        # Elimina la columna original column del DataFrame df y la reemplaza con las columnas normalizadas (col_df), asegurándose de que el índice del DataFrame se reinicie para evitar problemas con el índice de las filas.\\n        df = df.drop(columns=[column]).reset_index(drop=True).join(col_df)\\n    return df\\n\\ncolumns_to_expand = [\\'cast\\', \\'crew\\']\\n\\n\\ndf_credit_norm = expandcolumns(df_creditos, columns_to_expand)\\n\\n\\n\\n#leer el archivo y expandir columnas individualmente\\ndf_creditos = pd.read_csv(\"../credits.csv\")\\nprint(df_creditos.shape)\\nprint(df_creditos.columns)\\ndf_creditos_cast = expandcolumns(df_creditos, [\\'cast\\'])\\ndf_creditos_crew = expandcolumns(df_creditos, [\\'crew\\'])\\nprint(df_creditos_crew.shape)\\nprint(df_creditos_cast.shape)\\ndf_creditos_cast = df_creditos_cast.drop(columns=\\'crew\\')\\ndf_creditos_crew = df_creditos_crew.drop(columns=\\'cast\\')\\ndf_creditos_cast\\n\\n'"
      ]
     },
     "execution_count": 123,
     "metadata": {},
     "output_type": "execute_result"
    }
   ],
   "source": [
    "\"\"\"\n",
    "#### Expansion de columnas\n",
    "def expandcolumns(df, columns):\n",
    "    for column in columns:\n",
    "        df[column] = df[column].apply(lambda x: ast.literal_eval(x) if pd.notnull(x) else []) #Convierte el contenido de cada celda en la columna column de df de una cadena de texto que representa una lista de diccionarios a una lista de diccionarios Python, utilizando ast.literal_eval. Si el valor es nulo (pd.notnull(x)), se devuelve una lista vacía.\n",
    "        # Expande la columna column en filas, de modo que cada elemento de la lista de diccionarios se convierte en una fila separada en df\n",
    "        df = df.explode(column)\n",
    "        # Normaliza la columna column después de expandirla, lo que significa que convierte cada diccionario dentro de la lista en una serie de columnas.\n",
    "        col_df = pd.json_normalize(df[column])\n",
    "        # Renombra las columnas normalizadas agregando el nombre original de la columna como prefijo, para evitar conflictos si hay nombres de columnas duplicados en diferentes listas de diccionarios.\n",
    "        col_df = col_df.add_prefix(f'{column}')\n",
    "        # Elimina la columna original column del DataFrame df y la reemplaza con las columnas normalizadas (col_df), asegurándose de que el índice del DataFrame se reinicie para evitar problemas con el índice de las filas.\n",
    "        df = df.drop(columns=[column]).reset_index(drop=True).join(col_df)\n",
    "    return df\n",
    "\n",
    "columns_to_expand = ['cast', 'crew']\n",
    "\n",
    "\n",
    "df_credit_norm = expandcolumns(df_creditos, columns_to_expand)\n",
    "\n",
    "\n",
    "\n",
    "#leer el archivo y expandir columnas individualmente\n",
    "df_creditos = pd.read_csv(\"../credits.csv\")\n",
    "print(df_creditos.shape)\n",
    "print(df_creditos.columns)\n",
    "df_creditos_cast = expandcolumns(df_creditos, ['cast'])\n",
    "df_creditos_crew = expandcolumns(df_creditos, ['crew'])\n",
    "print(df_creditos_crew.shape)\n",
    "print(df_creditos_cast.shape)\n",
    "df_creditos_cast = df_creditos_cast.drop(columns='crew')\n",
    "df_creditos_crew = df_creditos_crew.drop(columns='cast')\n",
    "df_creditos_cast\n",
    "\n",
    "\"\"\""
   ]
  },
  {
   "cell_type": "code",
   "execution_count": 124,
   "metadata": {},
   "outputs": [
    {
     "data": {
      "text/plain": [
       "\"\\n# una opcion es crear un dataframe donde estaran las peliculas de enero por ejemplo\\n#january_movies = df_unico[df_unico['release_date'].dt.month == 1]\\n# una alternativa mas eficiente seria la siguiente:\\ncantidad_peliculas_mes = df_unico['release_date'].dt.month.value_counts()\\ncantidad_peliculas_mes.sort_index(inplace=True)\\n# donde guardo el valor de peliculas estrenadas en ese mes\\n#luego de esto podemos guardar el numero en una variable\\n# considerar que los corchetes de este metodo, comienzan a contar desde 1 y no desde 0, siendo 1 = enero.\\ncantidad_peliculas_mes_enero = df_unico['release_date'].dt.month.value_counts()[1]\\n#tambien accediendo a los elementos de la seria ya creada.\\nenero = cantidad_peliculas_mes[1]\\nprint(cantidad_peliculas_mes)\\nprint(cantidad_peliculas_mes_enero)\\nprint(enero)\\n\""
      ]
     },
     "execution_count": 124,
     "metadata": {},
     "output_type": "execute_result"
    }
   ],
   "source": [
    "\"\"\"\n",
    "# una opcion es crear un dataframe donde estaran las peliculas de enero por ejemplo\n",
    "#january_movies = df_unico[df_unico['release_date'].dt.month == 1]\n",
    "# una alternativa mas eficiente seria la siguiente:\n",
    "cantidad_peliculas_mes = df_unico['release_date'].dt.month.value_counts()\n",
    "cantidad_peliculas_mes.sort_index(inplace=True)\n",
    "# donde guardo el valor de peliculas estrenadas en ese mes\n",
    "#luego de esto podemos guardar el numero en una variable\n",
    "# considerar que los corchetes de este metodo, comienzan a contar desde 1 y no desde 0, siendo 1 = enero.\n",
    "cantidad_peliculas_mes_enero = df_unico['release_date'].dt.month.value_counts()[1]\n",
    "#tambien accediendo a los elementos de la seria ya creada.\n",
    "enero = cantidad_peliculas_mes[1]\n",
    "print(cantidad_peliculas_mes)\n",
    "print(cantidad_peliculas_mes_enero)\n",
    "print(enero)\n",
    "\"\"\""
   ]
  },
  {
   "cell_type": "code",
   "execution_count": 125,
   "metadata": {},
   "outputs": [],
   "source": [
    "#df_creditos = pd.merge(df_creditos_cast, df_creditos_crew, on='id',how='outer')\n",
    "#unique_ids_count_df = pd.merge(unique_ids_count,df['release_date'],on='id',how='left')"
   ]
  },
  {
   "cell_type": "markdown",
   "metadata": {},
   "source": [
    "codigo para no se que"
   ]
  },
  {
   "cell_type": "markdown",
   "metadata": {},
   "source": [
    "Lista de valores específicos que quieres eliminar\n",
    "specific_values = ['1997-08-20', '2012-09-29', '2014-01-01']\n",
    "\n",
    "Filtrar las filas que contienen cualquiera de los valores específicos en cualquier columna\n",
    "filas_borrar = df_movies[df_movies.applymap(lambda x: str(x) in specific_values).any(axis=1)].index\n",
    "\n",
    "Eliminar las filas filtradas\n",
    "df_movies.drop(filas_borrar, inplace=True)"
   ]
  },
  {
   "cell_type": "code",
   "execution_count": 126,
   "metadata": {},
   "outputs": [
    {
     "data": {
      "text/plain": [
       "\"\\nlis_dic = []\\nfor x in df['generes']:\\n    valor_dic = ast.literal_eval(x)\\n    lis_dic.append(valor_dic)\\n    #diccionario = ast.literal_eval(diccionario_str)\\n\\ndf_generos = []\\ndf_generos_id = []\\nfor x in lis_dic:\\n    for y in x:\\n        if y['id'] not in df_generos_id:\\n            df_generos.append(y['name'])\\n            df_generos_id.append(y['id'])\\n        else:\\n            pass\\ndic_gen = {'id':df_generos_id,\\n           'genero':df_generos}\\ndf_gen = pd.DataFrame(data=dic_gen)\\ndf_gen\\n\""
      ]
     },
     "execution_count": 126,
     "metadata": {},
     "output_type": "execute_result"
    }
   ],
   "source": [
    "#### obtener un dataset con los valores unicos de genero\n",
    "\n",
    "\"\"\"\n",
    "lis_dic = []\n",
    "for x in df['generes']:\n",
    "    valor_dic = ast.literal_eval(x)\n",
    "    lis_dic.append(valor_dic)\n",
    "    #diccionario = ast.literal_eval(diccionario_str)\n",
    "\n",
    "df_generos = []\n",
    "df_generos_id = []\n",
    "for x in lis_dic:\n",
    "    for y in x:\n",
    "        if y['id'] not in df_generos_id:\n",
    "            df_generos.append(y['name'])\n",
    "            df_generos_id.append(y['id'])\n",
    "        else:\n",
    "            pass\n",
    "dic_gen = {'id':df_generos_id,\n",
    "           'genero':df_generos}\n",
    "df_gen = pd.DataFrame(data=dic_gen)\n",
    "df_gen\n",
    "\"\"\""
   ]
  },
  {
   "cell_type": "code",
   "execution_count": 127,
   "metadata": {},
   "outputs": [
    {
     "data": {
      "text/plain": [
       "'\\nreturn = []\\nfor index, row in dftesting.iterrows():\\n    if row[1] != 0:\\n        return.append(row[10] / row[1])\\n    else:\\n        return.append(0)\\nreturn\\n\\n\\ntodrop = [19730, 29503, 35587]\\ndfmovies_etl = dfmovies_etl.drop(todrop, axis=0)\\n'"
      ]
     },
     "execution_count": 127,
     "metadata": {},
     "output_type": "execute_result"
    }
   ],
   "source": [
    "\"\"\"\n",
    "return = []\n",
    "for index, row in dftesting.iterrows():\n",
    "    if row[1] != 0:\n",
    "        return.append(row[10] / row[1])\n",
    "    else:\n",
    "        return.append(0)\n",
    "return\n",
    "\n",
    "\n",
    "todrop = [19730, 29503, 35587]\n",
    "dfmovies_etl = dfmovies_etl.drop(todrop, axis=0)\n",
    "\"\"\""
   ]
  }
 ],
 "metadata": {
  "kernelspec": {
   "display_name": "Python 3",
   "language": "python",
   "name": "python3"
  },
  "language_info": {
   "codemirror_mode": {
    "name": "ipython",
    "version": 3
   },
   "file_extension": ".py",
   "mimetype": "text/x-python",
   "name": "python",
   "nbconvert_exporter": "python",
   "pygments_lexer": "ipython3",
   "version": "3.11.4"
  }
 },
 "nbformat": 4,
 "nbformat_minor": 2
}
