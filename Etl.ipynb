{
 "cells": [
  {
   "cell_type": "code",
   "execution_count": 1,
   "metadata": {},
   "outputs": [],
   "source": [
    "import pandas as pd\n",
    "import numpy as np\n",
    "import re\n",
    "import json\n",
    "import ast"
   ]
  },
  {
   "cell_type": "markdown",
   "metadata": {},
   "source": [
    "## 1.0 Dataset: Movies: \n",
    "#### 1.1 Lectura de archivos"
   ]
  },
  {
   "cell_type": "code",
   "execution_count": 2,
   "metadata": {},
   "outputs": [
    {
     "name": "stdout",
     "output_type": "stream",
     "text": [
      "dimensiones de la data: (45466, 24)\n"
     ]
    },
    {
     "name": "stderr",
     "output_type": "stream",
     "text": [
      "C:\\Users\\Pablo\\AppData\\Local\\Temp\\ipykernel_14568\\2506349904.py:1: DtypeWarning: Columns (10) have mixed types. Specify dtype option on import or set low_memory=False.\n",
      "  df = pd.read_csv(\"../movies_dataset.csv\")\n"
     ]
    }
   ],
   "source": [
    "df = pd.read_csv(\"../movies_dataset.csv\")\n",
    "print(\"dimensiones de la data:\",df.shape)"
   ]
  },
  {
   "cell_type": "markdown",
   "metadata": {},
   "source": [
    "### 1.1 valores nulos de la data"
   ]
  },
  {
   "cell_type": "code",
   "execution_count": 3,
   "metadata": {},
   "outputs": [
    {
     "data": {
      "text/plain": [
       "adult                        0\n",
       "belongs_to_collection    40972\n",
       "budget                       0\n",
       "genres                       0\n",
       "homepage                 37684\n",
       "id                           0\n",
       "imdb_id                     17\n",
       "original_language           11\n",
       "original_title               0\n",
       "overview                   954\n",
       "popularity                   5\n",
       "poster_path                386\n",
       "production_companies         3\n",
       "production_countries         3\n",
       "release_date                87\n",
       "revenue                      6\n",
       "runtime                    263\n",
       "spoken_languages             6\n",
       "status                      87\n",
       "tagline                  25054\n",
       "title                        6\n",
       "video                        6\n",
       "vote_average                 6\n",
       "vote_count                   6\n",
       "dtype: int64"
      ]
     },
     "execution_count": 3,
     "metadata": {},
     "output_type": "execute_result"
    }
   ],
   "source": [
    "df.isna().sum()"
   ]
  },
  {
   "cell_type": "markdown",
   "metadata": {},
   "source": [
    "Debera considerarse que hacer con las columnas como belong_to_collection, homepage y tagline, que son las que tienen mayor cantidad de valores nulos. Por el momento se decidio guardar las columnas por si llegaran a ser de utilidad."
   ]
  },
  {
   "cell_type": "markdown",
   "metadata": {},
   "source": [
    "#### 1.2 Tratamiento sobre columnas que sean colecciones\n",
    "\n",
    "Para almacenar estos valores anidados, se procedera a guardarlos en una formato de lista de listas\n",
    "\n"
   ]
  },
  {
   "cell_type": "code",
   "execution_count": 4,
   "metadata": {},
   "outputs": [],
   "source": [
    "df_diccts = df[['belongs_to_collection','genres','production_companies','production_countries','spoken_languages']] "
   ]
  },
  {
   "cell_type": "code",
   "execution_count": 5,
   "metadata": {},
   "outputs": [
    {
     "data": {
      "text/html": [
       "<div>\n",
       "<style scoped>\n",
       "    .dataframe tbody tr th:only-of-type {\n",
       "        vertical-align: middle;\n",
       "    }\n",
       "\n",
       "    .dataframe tbody tr th {\n",
       "        vertical-align: top;\n",
       "    }\n",
       "\n",
       "    .dataframe thead th {\n",
       "        text-align: right;\n",
       "    }\n",
       "</style>\n",
       "<table border=\"1\" class=\"dataframe\">\n",
       "  <thead>\n",
       "    <tr style=\"text-align: right;\">\n",
       "      <th></th>\n",
       "      <th>belongs_to_collection</th>\n",
       "      <th>genres</th>\n",
       "      <th>production_companies</th>\n",
       "      <th>production_countries</th>\n",
       "      <th>spoken_languages</th>\n",
       "    </tr>\n",
       "  </thead>\n",
       "  <tbody>\n",
       "    <tr>\n",
       "      <th>41494</th>\n",
       "      <td>NaN</td>\n",
       "      <td>[{'id': 99, 'name': 'Documentary'}]</td>\n",
       "      <td>[{'name': 'Duplass Brothers Productions', 'id'...</td>\n",
       "      <td>[{'iso_3166_1': 'US', 'name': 'United States o...</td>\n",
       "      <td>[{'iso_639_1': 'en', 'name': 'English'}]</td>\n",
       "    </tr>\n",
       "    <tr>\n",
       "      <th>11074</th>\n",
       "      <td>NaN</td>\n",
       "      <td>[{'id': 10402, 'name': 'Music'}, {'id': 18, 'n...</td>\n",
       "      <td>[{'name': 'EM Media', 'id': 1917}, {'name': 'S...</td>\n",
       "      <td>[{'iso_3166_1': 'GB', 'name': 'United Kingdom'}]</td>\n",
       "      <td>[{'iso_639_1': 'en', 'name': 'English'}]</td>\n",
       "    </tr>\n",
       "    <tr>\n",
       "      <th>24714</th>\n",
       "      <td>NaN</td>\n",
       "      <td>[{'id': 35, 'name': 'Comedy'}]</td>\n",
       "      <td>[{'name': 'Moffitt-Lee Productions', 'id': 120...</td>\n",
       "      <td>[{'iso_3166_1': 'US', 'name': 'United States o...</td>\n",
       "      <td>[{'iso_639_1': 'en', 'name': 'English'}]</td>\n",
       "    </tr>\n",
       "  </tbody>\n",
       "</table>\n",
       "</div>"
      ],
      "text/plain": [
       "      belongs_to_collection  \\\n",
       "41494                   NaN   \n",
       "11074                   NaN   \n",
       "24714                   NaN   \n",
       "\n",
       "                                                  genres  \\\n",
       "41494                [{'id': 99, 'name': 'Documentary'}]   \n",
       "11074  [{'id': 10402, 'name': 'Music'}, {'id': 18, 'n...   \n",
       "24714                     [{'id': 35, 'name': 'Comedy'}]   \n",
       "\n",
       "                                    production_companies  \\\n",
       "41494  [{'name': 'Duplass Brothers Productions', 'id'...   \n",
       "11074  [{'name': 'EM Media', 'id': 1917}, {'name': 'S...   \n",
       "24714  [{'name': 'Moffitt-Lee Productions', 'id': 120...   \n",
       "\n",
       "                                    production_countries  \\\n",
       "41494  [{'iso_3166_1': 'US', 'name': 'United States o...   \n",
       "11074   [{'iso_3166_1': 'GB', 'name': 'United Kingdom'}]   \n",
       "24714  [{'iso_3166_1': 'US', 'name': 'United States o...   \n",
       "\n",
       "                               spoken_languages  \n",
       "41494  [{'iso_639_1': 'en', 'name': 'English'}]  \n",
       "11074  [{'iso_639_1': 'en', 'name': 'English'}]  \n",
       "24714  [{'iso_639_1': 'en', 'name': 'English'}]  "
      ]
     },
     "execution_count": 5,
     "metadata": {},
     "output_type": "execute_result"
    }
   ],
   "source": [
    "df_diccts.sample(3)"
   ]
  },
  {
   "cell_type": "code",
   "execution_count": 6,
   "metadata": {},
   "outputs": [],
   "source": [
    "from Funciones import convertir_dicc_to_list #para estructuras como belong_to_collection\n",
    "from Funciones import convertir_list_to_dicct # para estructuras como genres\n",
    "from Funciones import convertir_str_list # para estructuras como spoken_lenguage"
   ]
  },
  {
   "cell_type": "code",
   "execution_count": 7,
   "metadata": {},
   "outputs": [],
   "source": [
    "col1 =df['belongs_to_collection']\n",
    "col2 =df['genres']\n",
    "col3 =df['production_companies']\n",
    "col4 =df['production_countries']\n",
    "col5 =df['spoken_languages']\n",
    "\n",
    "col1 = convertir_dicc_to_list(col1)\n",
    "col2 = convertir_list_to_dicct(col2)\n",
    "col3 = convertir_list_to_dicct(col3)\n",
    "col4 = convertir_list_to_dicct(col4)\n",
    "col5 = convertir_str_list(col5)\n"
   ]
  },
  {
   "cell_type": "code",
   "execution_count": 8,
   "metadata": {},
   "outputs": [],
   "source": [
    "#reemplazar los valores de las columnas por estas nuevas listas\n",
    "df['belongs_to_collection'] = pd.Series(col1)\n",
    "df['genres'] = pd.Series(col2)\n",
    "df['production_companies'] = pd.Series(col3)\n",
    "df['production_countries'] = pd.Series(col4)\n",
    "df['spoken_languages'] = pd.Series(col5)"
   ]
  },
  {
   "cell_type": "code",
   "execution_count": 9,
   "metadata": {},
   "outputs": [
    {
     "data": {
      "text/html": [
       "<div>\n",
       "<style scoped>\n",
       "    .dataframe tbody tr th:only-of-type {\n",
       "        vertical-align: middle;\n",
       "    }\n",
       "\n",
       "    .dataframe tbody tr th {\n",
       "        vertical-align: top;\n",
       "    }\n",
       "\n",
       "    .dataframe thead th {\n",
       "        text-align: right;\n",
       "    }\n",
       "</style>\n",
       "<table border=\"1\" class=\"dataframe\">\n",
       "  <thead>\n",
       "    <tr style=\"text-align: right;\">\n",
       "      <th></th>\n",
       "      <th>belongs_to_collection</th>\n",
       "      <th>genres</th>\n",
       "      <th>production_companies</th>\n",
       "      <th>production_countries</th>\n",
       "      <th>spoken_languages</th>\n",
       "    </tr>\n",
       "  </thead>\n",
       "  <tbody>\n",
       "    <tr>\n",
       "      <th>35487</th>\n",
       "      <td>NaN</td>\n",
       "      <td>[[80, Crime], [18, Drama]]</td>\n",
       "      <td>NaN</td>\n",
       "      <td>NaN</td>\n",
       "      <td>NaN</td>\n",
       "    </tr>\n",
       "    <tr>\n",
       "      <th>25601</th>\n",
       "      <td>NaN</td>\n",
       "      <td>[[12, Adventure], [10752, War]]</td>\n",
       "      <td>NaN</td>\n",
       "      <td>NaN</td>\n",
       "      <td>NaN</td>\n",
       "    </tr>\n",
       "    <tr>\n",
       "      <th>7352</th>\n",
       "      <td>NaN</td>\n",
       "      <td>[[18, Drama]]</td>\n",
       "      <td>[[Playfilm Productions, 18138]]</td>\n",
       "      <td>[[US, United States of America]]</td>\n",
       "      <td>[[iso_639_1, en], [name, English]]</td>\n",
       "    </tr>\n",
       "    <tr>\n",
       "      <th>15225</th>\n",
       "      <td>NaN</td>\n",
       "      <td>[[18, Drama]]</td>\n",
       "      <td>[[Zero Film GmbH, 2511], [Lumen Films, 6216], ...</td>\n",
       "      <td>[[DE, Germany], [IT, Italy], [NL, Netherlands]...</td>\n",
       "      <td>[[iso_639_1, ru], [name, Pусский]]</td>\n",
       "    </tr>\n",
       "    <tr>\n",
       "      <th>18661</th>\n",
       "      <td>[[id, 427956], [name, Dr Goldfoot Collection],...</td>\n",
       "      <td>[[28, Action], [35, Comedy], [878, Science Fic...</td>\n",
       "      <td>[[American International Pictures (AIP), 9266]]</td>\n",
       "      <td>[[IT, Italy], [US, United States of America]]</td>\n",
       "      <td>[[iso_639_1, it], [name, Italiano]]</td>\n",
       "    </tr>\n",
       "  </tbody>\n",
       "</table>\n",
       "</div>"
      ],
      "text/plain": [
       "                                   belongs_to_collection  \\\n",
       "35487                                                NaN   \n",
       "25601                                                NaN   \n",
       "7352                                                 NaN   \n",
       "15225                                                NaN   \n",
       "18661  [[id, 427956], [name, Dr Goldfoot Collection],...   \n",
       "\n",
       "                                                  genres  \\\n",
       "35487                         [[80, Crime], [18, Drama]]   \n",
       "25601                    [[12, Adventure], [10752, War]]   \n",
       "7352                                       [[18, Drama]]   \n",
       "15225                                      [[18, Drama]]   \n",
       "18661  [[28, Action], [35, Comedy], [878, Science Fic...   \n",
       "\n",
       "                                    production_companies  \\\n",
       "35487                                                NaN   \n",
       "25601                                                NaN   \n",
       "7352                     [[Playfilm Productions, 18138]]   \n",
       "15225  [[Zero Film GmbH, 2511], [Lumen Films, 6216], ...   \n",
       "18661    [[American International Pictures (AIP), 9266]]   \n",
       "\n",
       "                                    production_countries  \\\n",
       "35487                                                NaN   \n",
       "25601                                                NaN   \n",
       "7352                    [[US, United States of America]]   \n",
       "15225  [[DE, Germany], [IT, Italy], [NL, Netherlands]...   \n",
       "18661      [[IT, Italy], [US, United States of America]]   \n",
       "\n",
       "                          spoken_languages  \n",
       "35487                                  NaN  \n",
       "25601                                  NaN  \n",
       "7352    [[iso_639_1, en], [name, English]]  \n",
       "15225   [[iso_639_1, ru], [name, Pусский]]  \n",
       "18661  [[iso_639_1, it], [name, Italiano]]  "
      ]
     },
     "execution_count": 9,
     "metadata": {},
     "output_type": "execute_result"
    }
   ],
   "source": [
    "df[['belongs_to_collection','genres','production_companies','production_countries','spoken_languages']].sample(5)"
   ]
  },
  {
   "cell_type": "markdown",
   "metadata": {},
   "source": [
    "### 1.3 Requisitos de procesamiento de los datos"
   ]
  },
  {
   "cell_type": "markdown",
   "metadata": {},
   "source": [
    "#### requisitos:\n",
    "\n",
    "- 1.3.1 Los valores nulos de los campos revenue, budget deben ser rellenados por el número 0.\n",
    "\n",
    "- 1.3.2 Los valores nulos del campo release date deben eliminarse.\n",
    "\n",
    "- 1.3.3 De haber fechas, deberán tener el formato AAAA-mm-dd, además deberán crear la columna release_year donde extraerán el año de la fecha de estreno.\n",
    "\n",
    "- 1.3.4 Crear la columna con el retorno de inversión, llamada return con los campos revenue y budget, dividiendo estas dos últimas revenue / budget, cuando no hay datos disponibles para calcularlo, deberá tomar el valor 0.\n",
    "\n",
    "- 1.3.5 Eliminar las columnas que no serán utilizadas, video,imdb_id,adult,original_title,poster_path y homepage.\n",
    "\n",
    "- 1.3.6 columna release_year con el año\n",
    "\n",
    "- 1.3.7 convertir tipos de dato\n"
   ]
  },
  {
   "cell_type": "code",
   "execution_count": 10,
   "metadata": {},
   "outputs": [],
   "source": [
    "# 1.3.1\n",
    "df['revenue'].fillna(0,inplace=True)\n",
    "df['budget'].fillna(0,inplace=True)\n",
    "#1.3.2\n",
    "df = df.dropna(axis=0,subset='release_date')\n",
    "#1.3.3\n",
    "df['release_date'] = pd.to_datetime(df['release_date'],errors='coerce')\n",
    "df['release_year'] = df['release_date'].dt.year\n",
    "#1.3.4\n",
    "df['budget'] = pd.to_numeric(df['budget'],errors='coerce')\n",
    "df['return'] = np.where((df['budget'].isna() | df['revenue'].isna() | (df['budget'] == 0)),\n",
    "                     0, df['revenue'] / df['budget'])\n",
    "#1.3.5\n",
    "df = df.drop(columns= ['video','imdb_id','adult','original_title','poster_path','homepage'])\n",
    "#1.3.6\n",
    "df['release_year'] = df['release_date'].dt.year\n",
    "# 1.3.7\n",
    "df['id'] = pd.to_numeric(df['id'],errors='coerce')\n",
    "df['popularity'] = pd.to_numeric(df['popularity'],errors='coerce')\n"
   ]
  },
  {
   "cell_type": "markdown",
   "metadata": {},
   "source": [
    "## 2.0 Dataset: Credits"
   ]
  },
  {
   "cell_type": "markdown",
   "metadata": {},
   "source": [
    "#### 2.1 Lectura del dataset: Credits"
   ]
  },
  {
   "cell_type": "code",
   "execution_count": 11,
   "metadata": {},
   "outputs": [],
   "source": [
    "df_creditos = pd.read_csv(\"../credits.csv\")"
   ]
  },
  {
   "cell_type": "code",
   "execution_count": 12,
   "metadata": {},
   "outputs": [
    {
     "data": {
      "text/html": [
       "<div>\n",
       "<style scoped>\n",
       "    .dataframe tbody tr th:only-of-type {\n",
       "        vertical-align: middle;\n",
       "    }\n",
       "\n",
       "    .dataframe tbody tr th {\n",
       "        vertical-align: top;\n",
       "    }\n",
       "\n",
       "    .dataframe thead th {\n",
       "        text-align: right;\n",
       "    }\n",
       "</style>\n",
       "<table border=\"1\" class=\"dataframe\">\n",
       "  <thead>\n",
       "    <tr style=\"text-align: right;\">\n",
       "      <th></th>\n",
       "      <th>cast</th>\n",
       "      <th>crew</th>\n",
       "      <th>id</th>\n",
       "    </tr>\n",
       "  </thead>\n",
       "  <tbody>\n",
       "    <tr>\n",
       "      <th>0</th>\n",
       "      <td>[{'cast_id': 14, 'character': 'Woody (voice)',...</td>\n",
       "      <td>[{'credit_id': '52fe4284c3a36847f8024f49', 'de...</td>\n",
       "      <td>862</td>\n",
       "    </tr>\n",
       "    <tr>\n",
       "      <th>1</th>\n",
       "      <td>[{'cast_id': 1, 'character': 'Alan Parrish', '...</td>\n",
       "      <td>[{'credit_id': '52fe44bfc3a36847f80a7cd1', 'de...</td>\n",
       "      <td>8844</td>\n",
       "    </tr>\n",
       "    <tr>\n",
       "      <th>2</th>\n",
       "      <td>[{'cast_id': 2, 'character': 'Max Goldman', 'c...</td>\n",
       "      <td>[{'credit_id': '52fe466a9251416c75077a89', 'de...</td>\n",
       "      <td>15602</td>\n",
       "    </tr>\n",
       "  </tbody>\n",
       "</table>\n",
       "</div>"
      ],
      "text/plain": [
       "                                                cast  \\\n",
       "0  [{'cast_id': 14, 'character': 'Woody (voice)',...   \n",
       "1  [{'cast_id': 1, 'character': 'Alan Parrish', '...   \n",
       "2  [{'cast_id': 2, 'character': 'Max Goldman', 'c...   \n",
       "\n",
       "                                                crew     id  \n",
       "0  [{'credit_id': '52fe4284c3a36847f8024f49', 'de...    862  \n",
       "1  [{'credit_id': '52fe44bfc3a36847f80a7cd1', 'de...   8844  \n",
       "2  [{'credit_id': '52fe466a9251416c75077a89', 'de...  15602  "
      ]
     },
     "execution_count": 12,
     "metadata": {},
     "output_type": "execute_result"
    }
   ],
   "source": [
    "df_creditos.head(3)"
   ]
  },
  {
   "cell_type": "markdown",
   "metadata": {},
   "source": [
    "#### 2.2 creacion de dataframes individuales para cast y crew"
   ]
  },
  {
   "cell_type": "markdown",
   "metadata": {},
   "source": [
    "#### 2.2.1 df cast"
   ]
  },
  {
   "cell_type": "code",
   "execution_count": 13,
   "metadata": {},
   "outputs": [
    {
     "name": "stdout",
     "output_type": "stream",
     "text": [
      "(562474, 9)\n"
     ]
    },
    {
     "data": {
      "text/html": [
       "<div>\n",
       "<style scoped>\n",
       "    .dataframe tbody tr th:only-of-type {\n",
       "        vertical-align: middle;\n",
       "    }\n",
       "\n",
       "    .dataframe tbody tr th {\n",
       "        vertical-align: top;\n",
       "    }\n",
       "\n",
       "    .dataframe thead th {\n",
       "        text-align: right;\n",
       "    }\n",
       "</style>\n",
       "<table border=\"1\" class=\"dataframe\">\n",
       "  <thead>\n",
       "    <tr style=\"text-align: right;\">\n",
       "      <th></th>\n",
       "      <th>id_credit</th>\n",
       "      <th>cast_id</th>\n",
       "      <th>character</th>\n",
       "      <th>credit_id</th>\n",
       "      <th>gender</th>\n",
       "      <th>id</th>\n",
       "      <th>name</th>\n",
       "      <th>order</th>\n",
       "      <th>profile_path</th>\n",
       "    </tr>\n",
       "  </thead>\n",
       "  <tbody>\n",
       "    <tr>\n",
       "      <th>0</th>\n",
       "      <td>862</td>\n",
       "      <td>14</td>\n",
       "      <td>Woody (voice)</td>\n",
       "      <td>52fe4284c3a36847f8024f95</td>\n",
       "      <td>2</td>\n",
       "      <td>31</td>\n",
       "      <td>Tom Hanks</td>\n",
       "      <td>0</td>\n",
       "      <td>/pQFoyx7rp09CJTAb932F2g8Nlho.jpg</td>\n",
       "    </tr>\n",
       "    <tr>\n",
       "      <th>1</th>\n",
       "      <td>862</td>\n",
       "      <td>15</td>\n",
       "      <td>Buzz Lightyear (voice)</td>\n",
       "      <td>52fe4284c3a36847f8024f99</td>\n",
       "      <td>2</td>\n",
       "      <td>12898</td>\n",
       "      <td>Tim Allen</td>\n",
       "      <td>1</td>\n",
       "      <td>/uX2xVf6pMmPepxnvFWyBtjexzgY.jpg</td>\n",
       "    </tr>\n",
       "    <tr>\n",
       "      <th>2</th>\n",
       "      <td>862</td>\n",
       "      <td>16</td>\n",
       "      <td>Mr. Potato Head (voice)</td>\n",
       "      <td>52fe4284c3a36847f8024f9d</td>\n",
       "      <td>2</td>\n",
       "      <td>7167</td>\n",
       "      <td>Don Rickles</td>\n",
       "      <td>2</td>\n",
       "      <td>/h5BcaDMPRVLHLDzbQavec4xfSdt.jpg</td>\n",
       "    </tr>\n",
       "    <tr>\n",
       "      <th>3</th>\n",
       "      <td>862</td>\n",
       "      <td>17</td>\n",
       "      <td>Slinky Dog (voice)</td>\n",
       "      <td>52fe4284c3a36847f8024fa1</td>\n",
       "      <td>2</td>\n",
       "      <td>12899</td>\n",
       "      <td>Jim Varney</td>\n",
       "      <td>3</td>\n",
       "      <td>/eIo2jVVXYgjDtaHoF19Ll9vtW7h.jpg</td>\n",
       "    </tr>\n",
       "    <tr>\n",
       "      <th>4</th>\n",
       "      <td>862</td>\n",
       "      <td>18</td>\n",
       "      <td>Rex (voice)</td>\n",
       "      <td>52fe4284c3a36847f8024fa5</td>\n",
       "      <td>2</td>\n",
       "      <td>12900</td>\n",
       "      <td>Wallace Shawn</td>\n",
       "      <td>4</td>\n",
       "      <td>/oGE6JqPP2xH4tNORKNqxbNPYi7u.jpg</td>\n",
       "    </tr>\n",
       "  </tbody>\n",
       "</table>\n",
       "</div>"
      ],
      "text/plain": [
       "   id_credit  cast_id                character                 credit_id  \\\n",
       "0        862       14            Woody (voice)  52fe4284c3a36847f8024f95   \n",
       "1        862       15   Buzz Lightyear (voice)  52fe4284c3a36847f8024f99   \n",
       "2        862       16  Mr. Potato Head (voice)  52fe4284c3a36847f8024f9d   \n",
       "3        862       17       Slinky Dog (voice)  52fe4284c3a36847f8024fa1   \n",
       "4        862       18              Rex (voice)  52fe4284c3a36847f8024fa5   \n",
       "\n",
       "   gender     id           name  order                      profile_path  \n",
       "0       2     31      Tom Hanks      0  /pQFoyx7rp09CJTAb932F2g8Nlho.jpg  \n",
       "1       2  12898      Tim Allen      1  /uX2xVf6pMmPepxnvFWyBtjexzgY.jpg  \n",
       "2       2   7167    Don Rickles      2  /h5BcaDMPRVLHLDzbQavec4xfSdt.jpg  \n",
       "3       2  12899     Jim Varney      3  /eIo2jVVXYgjDtaHoF19Ll9vtW7h.jpg  \n",
       "4       2  12900  Wallace Shawn      4  /oGE6JqPP2xH4tNORKNqxbNPYi7u.jpg  "
      ]
     },
     "execution_count": 13,
     "metadata": {},
     "output_type": "execute_result"
    }
   ],
   "source": [
    "linea_cast = df_creditos['cast']\n",
    "linea_id = df_creditos['id']\n",
    "\n",
    "## Para almacenar la informacion de cast, se procedera a crear un dataframe, donde cada \"clave\" sera una columna\n",
    "## y cada \"valor\" sera una instancia, iterando sobre cada instancia de la columna cast,\n",
    "## guardando el id, para que el nuevo dataframe tambien tenga el valor del id correspondiente de credits.\n",
    "## Ademas de los valores del diccionario.\n",
    "datos_cast = {}\n",
    "datos_cast[\"id_credit\"] = []\n",
    "datos_cast[\"cast_id\"] = []\n",
    "datos_cast[\"character\"] = []\n",
    "datos_cast[\"credit_id\"] = []\n",
    "datos_cast[\"gender\"] = []\n",
    "datos_cast[\"id\"] = []\n",
    "datos_cast[\"name\"] = []\n",
    "datos_cast[\"order\"] = []\n",
    "datos_cast[\"profile_path\"] = []\n",
    "try:\n",
    "    for idx, lis in enumerate(linea_cast):\n",
    "        linea = ast.literal_eval(lis)\n",
    "        id_actual = linea_id.iloc[idx]\n",
    "        for dic in linea:\n",
    "            datos_cast['id_credit'].append(id_actual)\n",
    "            for clave,valor in dic.items():\n",
    "                datos_cast[clave].append(valor)\n",
    "except:\n",
    "    pass\n",
    "\n",
    "datos_cast = pd.DataFrame(datos_cast)\n",
    "\n",
    "print(datos_cast.shape)\n",
    "datos_cast.head()"
   ]
  },
  {
   "cell_type": "markdown",
   "metadata": {},
   "source": [
    "#### 2.2.2 df crew"
   ]
  },
  {
   "cell_type": "code",
   "execution_count": 14,
   "metadata": {},
   "outputs": [
    {
     "data": {
      "text/html": [
       "<div>\n",
       "<style scoped>\n",
       "    .dataframe tbody tr th:only-of-type {\n",
       "        vertical-align: middle;\n",
       "    }\n",
       "\n",
       "    .dataframe tbody tr th {\n",
       "        vertical-align: top;\n",
       "    }\n",
       "\n",
       "    .dataframe thead th {\n",
       "        text-align: right;\n",
       "    }\n",
       "</style>\n",
       "<table border=\"1\" class=\"dataframe\">\n",
       "  <thead>\n",
       "    <tr style=\"text-align: right;\">\n",
       "      <th></th>\n",
       "      <th>id_credit</th>\n",
       "      <th>credit_id</th>\n",
       "      <th>department</th>\n",
       "      <th>gender</th>\n",
       "      <th>id</th>\n",
       "      <th>job</th>\n",
       "      <th>name</th>\n",
       "      <th>profile_path</th>\n",
       "    </tr>\n",
       "  </thead>\n",
       "  <tbody>\n",
       "    <tr>\n",
       "      <th>0</th>\n",
       "      <td>862</td>\n",
       "      <td>52fe4284c3a36847f8024f49</td>\n",
       "      <td>Directing</td>\n",
       "      <td>2</td>\n",
       "      <td>7879</td>\n",
       "      <td>Director</td>\n",
       "      <td>John Lasseter</td>\n",
       "      <td>/7EdqiNbr4FRjIhKHyPPdFfEEEFG.jpg</td>\n",
       "    </tr>\n",
       "    <tr>\n",
       "      <th>1</th>\n",
       "      <td>862</td>\n",
       "      <td>52fe4284c3a36847f8024f4f</td>\n",
       "      <td>Writing</td>\n",
       "      <td>2</td>\n",
       "      <td>12891</td>\n",
       "      <td>Screenplay</td>\n",
       "      <td>Joss Whedon</td>\n",
       "      <td>/dTiVsuaTVTeGmvkhcyJvKp2A5kr.jpg</td>\n",
       "    </tr>\n",
       "    <tr>\n",
       "      <th>2</th>\n",
       "      <td>862</td>\n",
       "      <td>52fe4284c3a36847f8024f55</td>\n",
       "      <td>Writing</td>\n",
       "      <td>2</td>\n",
       "      <td>7</td>\n",
       "      <td>Screenplay</td>\n",
       "      <td>Andrew Stanton</td>\n",
       "      <td>/pvQWsu0qc8JFQhMVJkTHuexUAa1.jpg</td>\n",
       "    </tr>\n",
       "    <tr>\n",
       "      <th>3</th>\n",
       "      <td>862</td>\n",
       "      <td>52fe4284c3a36847f8024f5b</td>\n",
       "      <td>Writing</td>\n",
       "      <td>2</td>\n",
       "      <td>12892</td>\n",
       "      <td>Screenplay</td>\n",
       "      <td>Joel Cohen</td>\n",
       "      <td>/dAubAiZcvKFbboWlj7oXOkZnTSu.jpg</td>\n",
       "    </tr>\n",
       "    <tr>\n",
       "      <th>4</th>\n",
       "      <td>862</td>\n",
       "      <td>52fe4284c3a36847f8024f61</td>\n",
       "      <td>Writing</td>\n",
       "      <td>0</td>\n",
       "      <td>12893</td>\n",
       "      <td>Screenplay</td>\n",
       "      <td>Alec Sokolow</td>\n",
       "      <td>/v79vlRYi94BZUQnkkyznbGUZLjT.jpg</td>\n",
       "    </tr>\n",
       "  </tbody>\n",
       "</table>\n",
       "</div>"
      ],
      "text/plain": [
       "   id_credit                 credit_id department  gender     id         job  \\\n",
       "0        862  52fe4284c3a36847f8024f49  Directing       2   7879    Director   \n",
       "1        862  52fe4284c3a36847f8024f4f    Writing       2  12891  Screenplay   \n",
       "2        862  52fe4284c3a36847f8024f55    Writing       2      7  Screenplay   \n",
       "3        862  52fe4284c3a36847f8024f5b    Writing       2  12892  Screenplay   \n",
       "4        862  52fe4284c3a36847f8024f61    Writing       0  12893  Screenplay   \n",
       "\n",
       "             name                      profile_path  \n",
       "0   John Lasseter  /7EdqiNbr4FRjIhKHyPPdFfEEEFG.jpg  \n",
       "1     Joss Whedon  /dTiVsuaTVTeGmvkhcyJvKp2A5kr.jpg  \n",
       "2  Andrew Stanton  /pvQWsu0qc8JFQhMVJkTHuexUAa1.jpg  \n",
       "3      Joel Cohen  /dAubAiZcvKFbboWlj7oXOkZnTSu.jpg  \n",
       "4    Alec Sokolow  /v79vlRYi94BZUQnkkyznbGUZLjT.jpg  "
      ]
     },
     "execution_count": 14,
     "metadata": {},
     "output_type": "execute_result"
    }
   ],
   "source": [
    "linea_crew = df_creditos['crew']\n",
    "linea_id = df_creditos['id']\n",
    "\n",
    "datos_crew = {}\n",
    "datos_crew[\"id_credit\"] = []\n",
    "datos_crew[\"credit_id\"] = []\n",
    "datos_crew[\"department\"] = []\n",
    "datos_crew[\"gender\"] = []\n",
    "datos_crew[\"id\"] = []\n",
    "datos_crew[\"job\"] = []\n",
    "datos_crew[\"name\"] = []\n",
    "datos_crew[\"profile_path\"] = []\n",
    "try:\n",
    "    for idx, lis in enumerate(linea_crew):\n",
    "        linea = ast.literal_eval(lis)\n",
    "        id_actual = linea_id.iloc[idx]\n",
    "        for dic in linea:\n",
    "            datos_crew[\"id_credit\"].append(id_actual)  # Agrega el id original repetido\n",
    "            for clave, valor in dic.items():\n",
    "                datos_crew[clave].append(valor)\n",
    "except Exception as e:\n",
    "    print(f\"Ocurrió un error: {e}\")\n",
    "\n",
    "# Convertir a DataFrame para verificar los resultados\n",
    "datos_crew = pd.DataFrame(datos_crew)\n",
    "datos_crew.head()"
   ]
  },
  {
   "cell_type": "markdown",
   "metadata": {},
   "source": [
    "#### 3.0 Datasets: movies, cast y crew"
   ]
  },
  {
   "cell_type": "code",
   "execution_count": 15,
   "metadata": {},
   "outputs": [
    {
     "name": "stdout",
     "output_type": "stream",
     "text": [
      "dataset movies (45379, 20)\n",
      "dataset crew  (464314, 8)\n",
      "dataset cast (562474, 9)\n"
     ]
    }
   ],
   "source": [
    "print(\"dataset movies\",df.shape)\n",
    "print(\"dataset crew \",datos_crew.shape)\n",
    "print(\"dataset cast\",datos_cast.shape)"
   ]
  },
  {
   "cell_type": "markdown",
   "metadata": {},
   "source": [
    "#### 3.1 Opcion a: cargar los datos como csv"
   ]
  },
  {
   "cell_type": "code",
   "execution_count": 16,
   "metadata": {},
   "outputs": [],
   "source": [
    "#datos_cast.to_csv('df_cast.csv',index=False)\n",
    "#datos_crew.to_csv('df_crew.csv',index=False)\n",
    "#df.to_csv('movies.csv',index=False)"
   ]
  },
  {
   "cell_type": "markdown",
   "metadata": {},
   "source": [
    "#### 3.1 Opcion b: transformar los tipos de datos anidados y almacenarlos en formato .parquet."
   ]
  },
  {
   "cell_type": "markdown",
   "metadata": {},
   "source": [
    "Debido a que parquet no soporta estrucutras anidadas de manera tan directa, se debera convertir los tipos de lista de listas a string de json sobre las columnas que tengan este tipo de estructura. Luego para desanidarlas se usara la misma funcion para convertirlos nuevamente a objetos de python"
   ]
  },
  {
   "cell_type": "code",
   "execution_count": 17,
   "metadata": {},
   "outputs": [],
   "source": [
    "df['belongs_to_collection'] = df['belongs_to_collection'].apply(json.dumps)\n",
    "df['genres'] = df['genres'].apply(json.dumps)\n",
    "df['production_companies'] = df['production_companies'].apply(json.dumps)\n",
    "df['production_countries'] = df['production_countries'].apply(json.dumps)\n",
    "df['spoken_languages'] = df['spoken_languages'].apply(json.dumps)"
   ]
  },
  {
   "cell_type": "markdown",
   "metadata": {},
   "source": [
    "#### 3.2 Recorte de los datasets\n",
    "de la data \"movies\" se eliminaran las columnas de belongs_to_collection, production_companies, production_countries, spoken_languages y tagline\t\n",
    "\n",
    "de la data de credits:\n",
    "\n",
    "crew: se eliminaran las columnas: credit_id, profile_path\n",
    "\n",
    "cast: se eliminaran las columnas: credit_id, profile_path"
   ]
  },
  {
   "cell_type": "code",
   "execution_count": 18,
   "metadata": {},
   "outputs": [],
   "source": [
    "df = df.drop(columns=['belongs_to_collection', 'production_companies', 'production_countries', 'spoken_languages', 'tagline'])\n",
    "datos_crew = datos_crew.drop(columns=['credit_id'])\n",
    "datos_cast = datos_cast.drop(columns=['credit_id'])\n",
    "datos_cast = datos_cast.drop(columns=['profile_path'])\n",
    "datos_crew = datos_crew.drop(columns=['profile_path'])\n"
   ]
  },
  {
   "cell_type": "code",
   "execution_count": 20,
   "metadata": {},
   "outputs": [],
   "source": [
    "df.to_parquet('data/df_movies_parquet.parquet',engine='pyarrow')\n",
    "datos_cast.to_parquet('data/df_cast_parquet.parquet',engine='pyarrow')\n",
    "datos_crew.to_parquet('data/df_crew_parquet.parquet',engine='pyarrow')"
   ]
  },
  {
   "cell_type": "code",
   "execution_count": 150,
   "metadata": {},
   "outputs": [
    {
     "name": "stdout",
     "output_type": "stream",
     "text": [
      "[['id', 10194], ['name', 'Toy Story Collection'], ['poster_path', '/7G9915LfUQ2lVfwMEEhDsn3kT4B.jpg'], ['backdrop_path', '/9FBwqcd9IRruEDUrTdcaafOMKUq.jpg']]\n",
      "['name', 'Toy Story Collection']\n",
      "Toy Story Collection\n"
     ]
    }
   ],
   "source": [
    "#ejemplo de lectura y des serializacion de 1 columna\n",
    "df_leido = pd.read_parquet('data/df_movies_parquet.parquet', engine='pyarrow')\n",
    "df_leido['belongs_to_collection'] = df_leido['belongs_to_collection'].apply(json.loads)\n",
    "print(df_leido['belongs_to_collection'][0])\n",
    "print(df_leido['belongs_to_collection'][0][1])\n",
    "print(df_leido['belongs_to_collection'][0][1][1])"
   ]
  },
  {
   "cell_type": "markdown",
   "metadata": {},
   "source": [
    "## Finalizacion del proceso de Extraccion, Transformacion y Carga(Load) de los datos."
   ]
  }
 ],
 "metadata": {
  "kernelspec": {
   "display_name": "Python 3",
   "language": "python",
   "name": "python3"
  },
  "language_info": {
   "codemirror_mode": {
    "name": "ipython",
    "version": 3
   },
   "file_extension": ".py",
   "mimetype": "text/x-python",
   "name": "python",
   "nbconvert_exporter": "python",
   "pygments_lexer": "ipython3",
   "version": "3.11.4"
  }
 },
 "nbformat": 4,
 "nbformat_minor": 2
}
